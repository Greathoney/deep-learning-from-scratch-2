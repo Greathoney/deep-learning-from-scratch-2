{
 "cells": [
  {
   "cell_type": "markdown",
   "metadata": {},
   "source": [
    "# Chap05 - 순환 신경망(RNN)"
   ]
  },
  {
   "cell_type": "markdown",
   "metadata": {},
   "source": [
    "단순한 **피드포워드(feedforward)** 신경망에서는 시계열 데이터의 성질(패턴)을 충분히 학습할 수 없다. 그 이유는 피드포워드가 한 방향으로만 신호가 전달되는 단방향 신경망이기 때문이다. 이를 해결하고자 **순환 신경망**(RNN, Recurrent Neural Network)이 등장하게 된다."
   ]
  },
  {
   "cell_type": "markdown",
   "metadata": {},
   "source": [
    " "
   ]
  },
  {
   "cell_type": "markdown",
   "metadata": {},
   "source": [
    "## 5.1 확률과 언어 모델"
   ]
  },
  {
   "cell_type": "markdown",
   "metadata": {},
   "source": [
    "### 5.1.1 Word2Vec을 확률 관점에서 바라보다\n",
    "\n",
    "Word2Vec의 CBOW 모델은 아래의 그림과 같이 `window_size=1`로 했을 때 맥락(context) $w_{t-1}$과 $w_{t+1}$로 부터 타깃(중앙) $w_t$를 예측하는 모델이다.\n",
    "\n"
   ]
  },
  {
   "cell_type": "markdown",
   "metadata": {},
   "source": [
    "<img src=\"./images/cbow01.png\" width=\"75%\" height=\"75%\" />"
   ]
  },
  {
   "cell_type": "markdown",
   "metadata": {},
   "source": [
    "$w_{t-1}$과 $w_{t+1}$이 주어졌을 때 타깃이 $w_t$가 될 확률을 수식으로 나타내면 다음과 같다.\n",
    "\n",
    "$$\n",
    "P \\left(w_t | w_{t-1}, w_{t+1}\\right)\n",
    "$$\n",
    "\n",
    "CBOW 모델은 위의 사후확률을 모델링한다. 이 사후확률은 '$w_{t-1}$과 $w_{t+1}$이 주어졌을 때 $w_t$가 일어날 확률'을 뜻한다."
   ]
  },
  {
   "cell_type": "markdown",
   "metadata": {},
   "source": [
    " "
   ]
  },
  {
   "cell_type": "markdown",
   "metadata": {},
   "source": [
    "이번에는 `window_size`를 좌우 대칭으로 적용하지 말고, 왼쪽으로 설정하여 왼쪽의 맥락(context)으로 한정해 보도록 하자. "
   ]
  },
  {
   "cell_type": "markdown",
   "metadata": {},
   "source": [
    "<img src=\"./images/cbow02.png\" width=\"75%\" height=\"75%\" />"
   ]
  },
  {
   "cell_type": "markdown",
   "metadata": {},
   "source": [
    "$$\n",
    "P(w_t | w_{t-2}, w_{t-1})\n",
    "$$"
   ]
  },
  {
   "cell_type": "markdown",
   "metadata": {},
   "source": [
    "위의 식에 Negative Log Likelihood를 적용하면 아래와 같이 손실함수를 정의할 수 있다. \n",
    "\n",
    "$$\n",
    "L = -\\log{P(w_t | w_{t-2}, w_{t-1})}\n",
    "$$"
   ]
  },
  {
   "cell_type": "markdown",
   "metadata": {},
   "source": [
    "이처럼 CBOW 모델을 학습시키는 본래 목적은 맥락으로부터 타깃을 정확하게 추측하는 것이다. 이렇게 학습을 시키게 되면, 그의 부산물로 단어의 의미가 인코딩된 '단어의 분산 표현'을 얻을 수 있다."
   ]
  },
  {
   "cell_type": "markdown",
   "metadata": {},
   "source": [
    " "
   ]
  },
  {
   "cell_type": "markdown",
   "metadata": {},
   "source": [
    "### 5.1.2 언어 모델\n",
    "\n",
    "**언어 모델**(Language Model)은 단어의 나열에 확률을 부여한다. 특정한 단어의 시퀀스에 대해서, 그 시퀀스가 일어날 가능성이 어느 정도인지(얼마나 자연스러운 단어 순서인지)를 확률로 평가한다. \n",
    "\n",
    "또한, 언어 모델은 새로운 문장을 생성하는 용도로 이용할 수 있다. 언어 모델은 단어 순서의 자연스러움을 확률적으로 평가할 수 있기 때문에, 그 확률분포에 따라 다음으로 적합한 단어를 **샘플링**할 수 있기 때문이다."
   ]
  },
  {
   "cell_type": "markdown",
   "metadata": {},
   "source": [
    "이러한 언어 모델을 수식으로 살펴보면 $w_1 , \\dots , w_m$이라는 $m$개의 단어로 된 문장이 있을 때, 단어가 $w_1, \\dots, w_m$이라는 순서로 출현할 확률을 $P(w_1, \\dots, w_m)$로 나타낼 수 있다. 이 확률은 여러 사건이 동시에 일어날 확률이므로 **동시 확률(Joint Probability, 또는 결합확률)**이라고 한다."
   ]
  },
  {
   "cell_type": "markdown",
   "metadata": {},
   "source": [
    "$$\n",
    "\\begin{align*}\n",
    "P(w_1, \\dots, w_m) &= P(w_m | w_1, \\dots, w_{m-1}) P(w_{m-1} | w_1, \\dots, w_{m-2}) \\\\ \n",
    "&\\cdots P(w_3 | w_1, w_2) P(w_2 | w_1) P(w_1) \\\\\n",
    "&= \\prod_{t=1}^{m}{P(w_t | w_1, \\dots, w_{t-1})}\n",
    "\\end{align*}\n",
    "$$"
   ]
  },
  {
   "cell_type": "markdown",
   "metadata": {},
   "source": [
    " "
   ]
  },
  {
   "cell_type": "markdown",
   "metadata": {},
   "source": [
    "위의 식은 확률의 **곱셈정리**로부터 유도할 수 있다. 확률의 곱셈정리는 다음과 같은 식으로 표현된다.\n",
    "\n",
    "$$\n",
    "P(A, B) = P(A|B)P(B)\n",
    "$$\n",
    "\n",
    "이 정리가 의미하는 것은 '$A$와 $B$가 모두 일어날 확률 $P(A, B)$'는 '$B$가 일어날 확률 $P(B)$'와 '$B$가 일어난 후 $A$가 일어날 확률 $P(A|B)$'를 곱한 값과 같다는 것이다."
   ]
  },
  {
   "cell_type": "markdown",
   "metadata": {},
   "source": [
    "> $P(A,B)$를 $P(A,B) = P(B|A)P(A)$ 처럼 분해할 수도 있는데, $A$와 $B$ 중 어느것을 **사후 확률(posterior probability)**의 조건으로 할지에 따라 2가지 표현 방법이 존재한다."
   ]
  },
  {
   "cell_type": "markdown",
   "metadata": {},
   "source": [
    "다시 언어 모델의 수식으로 돌아오면, 결합확률 $P(w_1, \\dots, w_m)$은 사후확률의 총 곱인 $\\prod{P(w_t|w_1, \\dots, w_m)}$ 으로 나타낼 수 있다. 여기서 사후확률은 아래의 그림고 같이 타깃 단어보다 **왼쪽**에 있는 모든 단어를 맥락(조건)으로 했을 때의 확률이 된다."
   ]
  },
  {
   "cell_type": "markdown",
   "metadata": {},
   "source": [
    "<img src=\"./images/lm.png\" width=\"75%\" height=\"75%\" />"
   ]
  },
  {
   "cell_type": "markdown",
   "metadata": {},
   "source": [
    "위의 그림에서 $P(w_t | w_1, \\dots, w_{t-1})$을 나타내는 모델은 **조건부 언어 모델**(Conditional Language Model)이라고 하는데, 보통 이를 **언어 모델**이라고 부른다."
   ]
  },
  {
   "cell_type": "markdown",
   "metadata": {},
   "source": [
    " "
   ]
  },
  {
   "cell_type": "markdown",
   "metadata": {},
   "source": [
    "### 5.1.3 CBOW 모델을 언어 모델로?\n",
    "\n",
    "Word2Vec의 CBOW 모델을 언어 모델에 적용하기 위해서는 맥락(context)의 크기를 특정 값으로 한정하여 근사적으로 나타낼 수 있다. 맥락의 크기를 특정 값($n$)으로 한정하여 근사적으로 나타낼 수 있다. \n",
    "\n",
    "$$\n",
    "P(w_1, \\dots, w_m) = \\prod_{t=1}^{m}{P(w_t|w_1, \\dots, w_{t-1})} \\approx \\prod_{t=1}^{m}{P(w_t | w_{t-n}, \\dots, w_{t-1})}\n",
    "$$"
   ]
  },
  {
   "cell_type": "markdown",
   "metadata": {},
   "source": [
    "위의 식처럼 맥락의 크기를 전체 단어의 개수가 아닌 $n$으로 설정하여 언어모델을 근사시킬 수 있다. 이러한 방법은 **마르코프 연쇄(Markov Chain)**을 따르는데, 마르코프 연쇄란 미래의 상태가 현재 상태에만 의존해 결정 된다는 것을 말한다. 위의 식에서는 $w_t$의 단어는 $w_{t-1}$에서 부터 $w_{t-n}$의 $n$개의 단어에만 의존하는 Markov Chain이라 할 수 있다."
   ]
  },
  {
   "cell_type": "markdown",
   "metadata": {},
   "source": [
    "하지만, CBOW(Continuous Bag-Of-Words) 모델은 모델이 의미하는 바와 같이, 맥락안의 단어의 순서는 고려하지 않는 문제가 있다. 맥락 단어의 순서를 고려하기 위해 아래의 그림과 같이 맥락의 단어 벡터를 은닉층에서 **연결**(concatenate)하는 방식인 NNLM(Neural Network Langauge Model) 모델이 있다. NNLM은 Bengio et.al(2003)이 제안한 방법으로 신경망을 이용한 언어 모델을 제안하였다."
   ]
  },
  {
   "cell_type": "markdown",
   "metadata": {},
   "source": [
    "![](./images/nnlm.png)"
   ]
  },
  {
   "cell_type": "markdown",
   "metadata": {},
   "source": [
    "하지만 NNLM은 맥락의 크기에 비례하여 은닉층에서 concatenate 해주는 부분도 증가하기 때문에 학습시킬 가중치 매개변수 또한 증가하게 되는 문제가 있다."
   ]
  },
  {
   "cell_type": "markdown",
   "metadata": {},
   "source": [
    "> word2vec의 CBOW와 skip-gram 모델의 목적과 NNLM의 목적은 엄연히 다르다 할 수 있는데, CBOW와 Skip-gram 모델은 단어의 분산 표현(distributed representation)을 얻는 것에 목적을 두는 반면, NNLM은 언어 모델(Language Model)을 목적으로 한다."
   ]
  },
  {
   "cell_type": "markdown",
   "metadata": {},
   "source": [
    " "
   ]
  },
  {
   "cell_type": "markdown",
   "metadata": {},
   "source": [
    "## 5.2 RNN이란"
   ]
  },
  {
   "cell_type": "markdown",
   "metadata": {},
   "source": [
    "### 5.2.1 순환하는 신경망\n",
    "\n",
    "'순환한다(Recurrent)'는 의미는 '반복해서 되돌아감'을 의미하며, 어느 한 지점에서 시작해 시간을 지나 다시 원래 장소로 되돌아 오는 과정을 반복하는 것을 의미한다. 순환하기 위해서는 '닫힌 경로'가 필요하다.\n",
    "\n",
    "RNN(Recurrent Neural Network)의 특징은 순환하는 경로(닫힌 경로)가 있다는 것이다. 이러한 순환 경로를 따라 데이터는 끊임없이 순환할 수 있고, 과거의 정보를 기억하는 동시에 최신 데이터로 갱신될 수 있다."
   ]
  },
  {
   "cell_type": "markdown",
   "metadata": {},
   "source": [
    "![](./images/rnn01.png)"
   ]
  },
  {
   "cell_type": "markdown",
   "metadata": {},
   "source": [
    "위의 그림에서는 $\\mathbf{x}_{t}$를 입력 받는데, $t$는 시각을 뜻한다. 시계열 데이터 $(\\mathbf{x}_{0}, \\mathbf{x}_{1}, \\dots, \\mathbf{x}_{t}, \\dots)$가 RNN 계층에 입력되고, 그 입력에 대응하여 $(\\mathbf{h}_{0}, \\mathbf{h}_{1}, \\dots, \\mathbf{h}_{t}, \\dots)$ 가 출력된다."
   ]
  },
  {
   "cell_type": "markdown",
   "metadata": {},
   "source": [
    "각 시각에 입력되는 $\\mathbf{x}_{t}$는 벡터라고 가정한다. 문장(단어 순서)을 다루는 경우를 예로 든다면 각 단어의 분산 표현(단어 벡터)이 $\\mathbf{x}_{t}$가 되며, 이 분산 표현이 순서대로 하나씩 RNN 계층에 입력된다. 위의 그림에서 출력이 2개로 '분기'가 되는 것을 알 수 있는데, 출력이 2개로 복제되어 그 중 하나가 다시 자신의 입력이 된다."
   ]
  },
  {
   "cell_type": "markdown",
   "metadata": {},
   "source": [
    " "
   ]
  },
  {
   "cell_type": "markdown",
   "metadata": {},
   "source": [
    "### 5.2.2 순환 구조 펼치기\n",
    "\n",
    "![](./images/rnn02.png)"
   ]
  },
  {
   "cell_type": "markdown",
   "metadata": {},
   "source": [
    "각 시각의 RNN 계층은 그 계층으로의 입력($\\mathbf{x}_{t}$)과 1개 전의 RNN 계층으로 부터의 출력($\\mathbf{h}_{t-1}$)을 받는다. 그런 다음, 이 두 정보를 바탕으로 현 시각의 출력을 계산한다.\n",
    "\n",
    "$$\n",
    "\\mathbf{h}_{t} = \\tanh{\\left( \\mathbf{h}_{t-1} \\mathbf{W}_{\\mathbf{h}} + \\mathbf{x}_{t} \\mathbf{W}_{\\mathbf{x}} + \\mathbf{b} \\right)}\n",
    "$$\n",
    "\n",
    "$\\mathbf{W}_{\\mathbf{x}}$은 입력 $\\mathbf{x}$를 출력 $\\mathbf{h}$로 변환하기 위한 가중치이고, $\\mathbf{W}_{\\mathbf{h}}$는 출력 $\\mathbf{h}_{t-1}$를 다음 시각의 출력으로 변환하기 위한 가중치이다. 또한 편향 $\\mathbf{b}$도 있다. "
   ]
  },
  {
   "cell_type": "markdown",
   "metadata": {},
   "source": [
    "위의 식에서 행렬의 곱을 계산하고 그 합을 $\\tanh$ 함수를 이용해 변환한 결과가 $\\mathbf{h}_{t}$가 된다. 현재의 출력($\\mathbf{h}_{t}$)은 한 시각 이전 출력($\\mathbf{h}_{t-1}$)에 기초해 계산된다. RNN은 $\\mathbf{h}$라는 **'상태'**(state)를 가지고 있다고 해석할 수 있다."
   ]
  },
  {
   "cell_type": "markdown",
   "metadata": {},
   "source": [
    " "
   ]
  },
  {
   "cell_type": "markdown",
   "metadata": {},
   "source": [
    "### 5.2.3 BPTT\n",
    "\n",
    "RNN의 오차역전파법은 아래의 그림과 같이 RNN 계층을 시간 순으로 펼쳐서 나타낼 수 있다. 이를 '시간 방향으로 펼친 신경망의 오차역전파법'이란 뜻으로 **BPTT**(BackPropagation Through Time)이라고 한다.\n",
    "\n",
    "![](./images/bptt01.png)"
   ]
  },
  {
   "cell_type": "markdown",
   "metadata": {},
   "source": [
    "BPTT의 문제는 처음부터 끝까지 역전파하기 때문에 시간 크기(타임 스텝)가 커질수록 계산량이 많아질 뿐만아니라 역전파 시의 기울기가 불안정(vanishing & exploding gradient)해지는 문제가 있다."
   ]
  },
  {
   "cell_type": "markdown",
   "metadata": {},
   "source": [
    " "
   ]
  },
  {
   "cell_type": "markdown",
   "metadata": {},
   "source": [
    "### 5.2.4 Truncated BPTT\n",
    "\n",
    "큰 시계열 데이터를 취급할 때는 역전파를 수행할 때 신경망 연결을 적당한 길이로 **'절단'**한다. 이러한 방법으로 역전파를 수행하는 것을 **Truncated BPTT**라고 한다.\n",
    "\n",
    "Truncated BPTT에서는 신경망의 연결을 끊지만, '역전파'의 연결만 끊어야하고 순전파의 연결은 **반드시** 그대로 유지해야 한다. 그렇기 때문에 순전파의 흐름은 끊어지지 않고 전파되며, 역전파의 연결은 적당한 길이로 절단하여, 잘라낸 신경망 단위로 학습을 수행한다."
   ]
  },
  {
   "cell_type": "markdown",
   "metadata": {},
   "source": [
    "![](./images/bptt02.png)"
   ]
  },
  {
   "cell_type": "markdown",
   "metadata": {},
   "source": [
    "위의 그림에서 확인할 수 있듯이, 역전파의 연결은 끊기지만 순전파의 연결은 끊기지 않는다. RNN을 학습시킬 때는 순전파가 연결되어 있다는 점을 고려해 데이터를 **'순서대로(sequential)'** 입력해야한다. \n",
    "\n",
    "> RNN을 제외한 다른 신경망에서는 미니배치를 통해 데이터를 주입할 때 랜덤하게 입력했지만, RNN에서는 데이터를 순서대로 입력해줘야 한다. "
   ]
  },
  {
   "cell_type": "markdown",
   "metadata": {},
   "source": [
    "![](./images/bptt03.png)"
   ]
  },
  {
   "cell_type": "markdown",
   "metadata": {},
   "source": [
    " "
   ]
  },
  {
   "cell_type": "markdown",
   "metadata": {},
   "source": [
    "### 5.2.5 Truncated BPTT의 미니배치 학습\n",
    "\n",
    "위에서 살펴본 Truncated BPTT의 학습처리순서는 미니배치를 고려하지 않은 즉, 미니배치가 1일 때에 해당하는 학습 방법이었다. 미니배치 수가 2 이상인 배치를 학습하기 위해서는 데이터를 입력하는 시작위치를 각 미니배치의 시작위치로 **'옮겨줘야'**한다.\n",
    "\n",
    "길이가 `1,000`인 시계열 데이터에 대해 길이를 10개 단위로 잘라 Truncated BPTT로 학습하는 경우를 예로 들어보자. 이때, 미니배치의 수를 2개로 구성한다면 아래의 그림과 같이 구성할 수 있다. \n",
    "\n",
    "- 첫 번째 미니배치 때는 처음 부터 순서대로 데이터를 입력하고,\n",
    "- 두 번째 미니배치 때는 `500`번 째 데이터를 시작위치로 정하고, 그 위치부터 다시 순서대로 데이터를 입력해 준다."
   ]
  },
  {
   "cell_type": "markdown",
   "metadata": {},
   "source": [
    "![](./images/bptt04.png)"
   ]
  },
  {
   "cell_type": "markdown",
   "metadata": {},
   "source": [
    " "
   ]
  },
  {
   "cell_type": "markdown",
   "metadata": {},
   "source": [
    "## 5.3 RNN 구현\n",
    "\n",
    "아래의 그림과 같이, $(\\mathbf{x}_{0}, \\mathbf{x}_{1}, \\dots, \\mathbf{x}_{T-1})$을 묶은 $\\mathbf{xs}$를 입력하면 $(\\mathbf{h}_{0}, \\mathbf{h}_{1}, \\dots, \\mathbf{h}_{T-1})$을 묶은 $\\mathbf{hs}$를 출력하는 단일 계층인 `TimeRNN`을 구현한다.\n",
    "\n",
    "![](./images/timernn.png)"
   ]
  },
  {
   "cell_type": "markdown",
   "metadata": {},
   "source": [
    "### 5.3.1 RNN 계층 구현\n",
    "\n",
    "RNN의 순전파 식은 다음과 같다.\n",
    "\n",
    "$$\n",
    "\\mathbf{h}_{t} = \\tanh{\\left( \\mathbf{h}_{t-1} \\mathbf{W}_{\\mathbf{h}} + \\mathbf{x}_{t} \\mathbf{W}_{\\mathbf{x}} + \\mathbf{b} \\right)}\n",
    "$$\n",
    "\n",
    "위의 식을 미니배치 사이즈 $N$개에 대해 Matrix의 `shape`를 맞춰주면 다음과 같다."
   ]
  },
  {
   "cell_type": "markdown",
   "metadata": {},
   "source": [
    "$$\n",
    "\\underbrace{\\mathbf{h}_{t-1}}_{N \\times H} \\cdot \\underbrace{\\mathbf{W}_{\\mathbf{h}}}_{H \\times H} + \\underbrace{\\mathbf{x}_{t}}_{N \\times D} \\cdot \\underbrace{\\mathbf{W}_{\\mathbf{x}}}_{D \\times H} = \\underbrace{\\mathbf{h}_{t}}_{N \\times H}\n",
    "$$"
   ]
  },
  {
   "cell_type": "markdown",
   "metadata": {},
   "source": [
    "\n",
    "![](./images/rnn_cell.png)"
   ]
  },
  {
   "cell_type": "code",
   "execution_count": 1,
   "metadata": {},
   "outputs": [],
   "source": [
    "# common/time_layers.py\n",
    "import sys\n",
    "sys.path.append('..')\n",
    "from common.np import *\n",
    "from common.layers import *\n",
    "from common.functions import sigmoid\n",
    "\n",
    "\n",
    "class RNN:\n",
    "    def __init__(self, Wx, Wh, b):\n",
    "        self.params = [Wx, Wh, b]\n",
    "        self.grads = [np.zeros_like(Wx), np.zeros_like(Wh), np.zeros_like(b)]\n",
    "        self.cache = None  # 역전파에 사용할 중간 데이터\n",
    "\n",
    "    def forward(self, x, h_prev):\n",
    "        Wx, Wh, b = self.params\n",
    "        t = np.matmul(h_prev, Wh) + np.matmul(x, Wx) + b\n",
    "        h_next = np.tanh(t)\n",
    "\n",
    "        self.cache = (x, h_prev, h_next)\n",
    "        return h_next\n",
    "\n",
    "    def backward(self, dh_next):\n",
    "        Wx, Wh, b = self.params\n",
    "        x, h_prev, h_next = self.cache\n",
    "\n",
    "        dt = dh_next * (1 - h_next ** 2)  # tanh 미분\n",
    "        db = np.sum(dt, axis=0)\n",
    "        dWh = np.dot(h_prev.T, dt)  # shape: (H, N) x (N, H) = (H, H)\n",
    "        dh_prev = np.dot(dt, Wh.T)  # shape: (N, H) x (H, H) = (N, H)\n",
    "        dWx = np.dot(x.T, dt)  # shape: (D, N) x (N, H) = (D, H)\n",
    "        dx = np.dot(dt, Wx.T)  # shape: (N, H) x (H, D) = (N, D)\n",
    "\n",
    "        self.grads[0][...] = dWx\n",
    "        self.grads[1][...] = dWh\n",
    "        self.grads[2][...] = db\n",
    "\n",
    "        return dx, dh_prev"
   ]
  },
  {
   "cell_type": "markdown",
   "metadata": {},
   "source": [
    " "
   ]
  },
  {
   "cell_type": "markdown",
   "metadata": {},
   "source": [
    "### 5.3.2 Time RNN 계층 구현\n",
    "\n",
    "`TimeRNN` 계층은 $T$개의 RNN 계층으로 구성된다. \n",
    "\n",
    "![](./images/timernn.png)"
   ]
  },
  {
   "cell_type": "markdown",
   "metadata": {},
   "source": [
    "위의 그림에서 보듯이, `TimeRNN` 계층은 RNN 계층 $T$개를 연결한 신경망이다. 이러한 `TimeRNN` 클래스를 구현하며, 여기서 RNN 계층의 hidden state인 $\\mathbf{h}$를 인스턴스변수로 유지하여 아래의 그림과 같이 다음 블록인 $\\mathbf{xs}_{1}$에서 이 $\\mathbf{h}$를 전달받는 용도로 이용한다.\n",
    "\n",
    "![](./images/timernn2.png)"
   ]
  },
  {
   "cell_type": "markdown",
   "metadata": {},
   "source": [
    "위의 그림처럼 hidden state $\\mathbf{h}$를 전달 받을지를 `stateful`이라는 인수로 조정할 수 있도록 구현한다.\n",
    "\n",
    "- 아래의 코드에서 `stateful` 인수가 `True`일 경우  hidden state $\\mathbf{h}$를 유지한다는 뜻이다. 즉, 아무리 긴 시계열 데이터라도 `TimeRNN` 계층의 순전파를 끊지 않고 전파한다는 의미이다.\n",
    "\n",
    "- `False`일 경우  hidden state $\\mathbf{h}$는 '영행렬'로 초기화 한다.\n",
    "\n",
    "> 긴 시계열 데이터를 처리할 때는 RNN의 hidden state를 유지해야 한다. 대부분의 딥러닝 프레임워크에서는 RNN 계층에서 `stateful`인수를 이용해 hidden state를 유지할지 지정할 수 있다. 예를 들어, [`Keras`](https://keras.io/layers/recurrent/)에서는 `RNN`에서 `stateful`인수가 있다."
   ]
  },
  {
   "cell_type": "markdown",
   "metadata": {},
   "source": [
    "아래의 코드에서 `forward()`메서드가 호출되면, 인스턴스 변수 `h`에는 마지막 RNN 계층의 hidden state가 저장된다. `stateful=True`일 경우에, 저장된 `h`값이 그대로 사용되고, `stateful=False`일 경우에는 `h`가 영행렬로 초기화 된다."
   ]
  },
  {
   "cell_type": "markdown",
   "metadata": {},
   "source": [
    "`TimeRNN` 클래스의 역전파 과정은 아래의 그림과 같다.\n",
    "\n",
    "![](./images/timernn3.png)"
   ]
  },
  {
   "cell_type": "markdown",
   "metadata": {},
   "source": [
    "예를 들어, $t$번째 RNN계층의 역전파는 아래의 그림과 같다. 역전파 시 RNN 계층에는 $(\\mathbf{dh}_{t} + \\mathbf{dh}_{next})$의 합산된 기울기가 입력된다.\n",
    "\n",
    "![](./images/timernn4.png)"
   ]
  },
  {
   "cell_type": "code",
   "execution_count": 2,
   "metadata": {},
   "outputs": [],
   "source": [
    "# common/time_layers.py\n",
    "class TimeRNN:\n",
    "    def __init__(self, Wx, Wh, b, stateful=False):\n",
    "        self.params = [Wx, Wh, b]\n",
    "        self.grads = [np.zeros_like(Wx), np.zeros_like(Wh), np.zeros_like(b)]\n",
    "        self.layers = None  # RNN 계층을 리스트로 저장\n",
    "        \n",
    "        self.h, self.dh = None, None\n",
    "        self.stateful = stateful\n",
    "        \n",
    "    def set_state(self, h):\n",
    "        '''hidden state(h)를 설정하는 메서드'''\n",
    "        self.h = h\n",
    "    \n",
    "    def reset_state(self):\n",
    "        '''hidden state(h)를 초기화하는 메서드'''\n",
    "        self.h = None\n",
    "        \n",
    "    def forward(self, xs):\n",
    "        Wx, Wh, b = self.params\n",
    "        N, T, D = xs.shape  # N(batch), T(time steps), D(input size)\n",
    "        D, H = Wx.shape\n",
    "        \n",
    "        self.layers = []\n",
    "        hs = np.empty((N, T, H), dtype='f')\n",
    "        \n",
    "        if not self.stateful or self.h is None:\n",
    "            self.h = np.zeros((N, H), dtype='f')\n",
    "            \n",
    "        for t in range(T):\n",
    "            layer = RNN(*self.params)\n",
    "            self.h = layer.forward(xs[:, t, :], self.h)\n",
    "            hs[:, t, :] = self.h\n",
    "            self.layers.append(layer)\n",
    "            \n",
    "        return hs\n",
    "    \n",
    "    def backward(self, dhs):\n",
    "        Wx, Wh, b = self.params\n",
    "        N, T, H = dhs.shape\n",
    "        D, H = Wx.shape\n",
    "        \n",
    "        dxs = np.empty((N, T, D), dtype='f')\n",
    "        dh = 0\n",
    "        grads = [0, 0, 0]\n",
    "        for t in reversed(range(T)):\n",
    "            layer = self.layers[t]\n",
    "            dx, dh = layer.backward(dhs[:, t, :] + dh)  # 합산된 기울기\n",
    "            dxs[:, t, :] = dx\n",
    "            \n",
    "            for i, grad in enumerate(layer.grads):\n",
    "                grads[i] += grad\n",
    "                \n",
    "        for i, grad in enumerate(grads):\n",
    "            self.grads[i][...] = grad\n",
    "        self.dh = dh\n",
    "        \n",
    "        return dxs"
   ]
  },
  {
   "cell_type": "markdown",
   "metadata": {},
   "source": [
    " "
   ]
  },
  {
   "cell_type": "markdown",
   "metadata": {},
   "source": [
    "## 5.4 시계열 데이터 처리 계층 구현\n",
    "\n",
    "이번 `Chap 05`의 목표는 RNN을 사용하여 '언어 모델'을 구현하는 것이다. 이번 절에서는 `5.3`에서 구현한 `TimeRNN`을 이용해 **RNN Language Model**(RNNLM)을 구현해 본다. "
   ]
  },
  {
   "cell_type": "markdown",
   "metadata": {},
   "source": [
    "### 5.4.1 RNNLM의 전체 그림\n",
    "\n",
    "구현하고자 하는 RNNLM 모델은 아래의 그림과 같다. 왼쪽은 RNNLM 계층 구성이고, 오른쪽은 이를 시간 축으로 펼친 것이다.\n",
    "\n",
    "![](./images/rnnlm.png)"
   ]
  },
  {
   "cell_type": "markdown",
   "metadata": {},
   "source": [
    "### 5.4.2 Time 계층 구현\n",
    "\n",
    "5.3.2에서 시계열 데이터를 한꺼번에 처리하는 계층인 `TimeRNN` 클래스를 구현했다. 이번 절에서도 마찬가지로 시계열 데이터를 한꺼번에 처리하는 계층인 `Time Embedding`, `Time Affine`, `Time Softmax`계층을 아래의 그림과 같이 구현한다.\n",
    "\n",
    "![](./images/rnnlm2.png)"
   ]
  },
  {
   "cell_type": "markdown",
   "metadata": {},
   "source": [
    "위의 그림처럼 `Time Affine`과 `Time Embdedding`레이어는 각각 `Affine`과 `Embedding` 레이어를 $T$개를 준비하고, 각 레이어가 각 시각의 데이터를 처리하게끔 구현한다. "
   ]
  },
  {
   "cell_type": "code",
   "execution_count": 3,
   "metadata": {},
   "outputs": [],
   "source": [
    "# common/time_layers.py\n",
    "class TimeEmbedding:\n",
    "    def __init__(self, W):\n",
    "        self.params = [W]\n",
    "        self.grads = [np.zeros_like(W)]\n",
    "        self.layers = None\n",
    "        self.W = W\n",
    "        \n",
    "    def forward(self, xs):\n",
    "        N, T = xs.shape  # N(batch), T(timesteps)\n",
    "        V, D = self.W.shape  # V(vocab_size), D(embedding_size)\n",
    "        \n",
    "        out = np.empty((N, T, D), dtype='f')\n",
    "        self.layers = []\n",
    "        \n",
    "        for t in range(T):\n",
    "            layer = Embedding(self.W)\n",
    "            out[:, t, :] = layer.forward(xs[:, t])\n",
    "            self.layers.append(layer)\n",
    "        \n",
    "        return out\n",
    "    \n",
    "    def backward(self, dout):\n",
    "        N, T, D = dout.shape\n",
    "        \n",
    "        grad = 0\n",
    "        for t in range(T):\n",
    "            layer = self.layers[t]\n",
    "            layer.backward(dout[:, t, :])\n",
    "            grad += layer.grads[0]\n",
    "            \n",
    "        self.grads[0][...] = grad\n",
    "        return None"
   ]
  },
  {
   "cell_type": "code",
   "execution_count": 4,
   "metadata": {},
   "outputs": [],
   "source": [
    "class TimeAffine:\n",
    "    def __init__(self, W, b):\n",
    "        self.params = [W, b]\n",
    "        self.grads = [np.zeros_like(W), np.zeros_like(b)]\n",
    "        self.x = None\n",
    "        \n",
    "    def forward(self, x):\n",
    "        N, T, D = x.shape\n",
    "        W, b = self.params\n",
    "        \n",
    "        rx = x.reshape(N*T, -1)\n",
    "        out = np.dot(rx, W) + b\n",
    "        self.x = x\n",
    "        return out.reshape(N, T, -1)\n",
    "    \n",
    "    def backward(self, dout):\n",
    "        x = self.x\n",
    "        N, T, D = x.shape\n",
    "        W, b = self.params\n",
    "        \n",
    "        dout = dout.reshape(N*T, -1)\n",
    "        rx = x.reshape(N*T, -1)\n",
    "        \n",
    "        db = np.sum(dout, axis=0)\n",
    "        dW = np.dot(rx.T, dout)\n",
    "        dx = np.dot(dout, W.T)\n",
    "        dx = dx.reshape(*x.shape)\n",
    "        \n",
    "        self.grads[0][...] = dW\n",
    "        self.grads[1][...] = db\n",
    "        \n",
    "        return dx"
   ]
  },
  {
   "cell_type": "markdown",
   "metadata": {},
   "source": [
    " "
   ]
  },
  {
   "cell_type": "markdown",
   "metadata": {},
   "source": [
    "#### Time Softmax with Loss 계층\n",
    "\n",
    "`Time Softmax` 레이어를 구현할 때는 손실(loss) 또한 구하는 Cross Entropy Error 레이어를 함께 구현하여, `Time Softmax with Loss`레이어로 아래의 그림과 같이 구현한다. $\\mathbf{S}_{T-1}$은 하위 레이어에서 부터 출력된 Softmax를 통과하기 전의 '점수'(score)를 의미하며, $\\mathbf{t}_{T-1}$은 정답 레이블을 의미한다. 아래의 그림에서 보듯, $T$개의 Softmax with Loss 계층 각각이 손실을 출력하고 그 손실을 합산한 뒤 평균을 취한 값이 바로 최종 손실값이 된다.\n",
    "\n",
    "$$\n",
    "L = \\frac{1}{T} \\left( L_0 + L_1 + \\cdots + L_{T-1} \\right)\n",
    "$$"
   ]
  },
  {
   "cell_type": "markdown",
   "metadata": {},
   "source": [
    "![](./images/rnnlm3.png)"
   ]
  },
  {
   "cell_type": "code",
   "execution_count": 5,
   "metadata": {},
   "outputs": [],
   "source": [
    "class TimeSoftmaxWithLoss:\n",
    "    def __init__(self):\n",
    "        self.params, self.grads = [], []\n",
    "        self.cache = None\n",
    "        self.ignore_label = -1\n",
    "        \n",
    "    def forward(self, xs, ts):\n",
    "        N, T, V = xs.shape\n",
    "        \n",
    "        if ts.ndim == 3:  # 정답 레이블이 원핫 벡터인 경우\n",
    "            ts = ts.argmax(axis=2)\n",
    "        \n",
    "        mask = (ts != self.ignore_label)\n",
    "        \n",
    "        # 배치용과 시계열용을 정리(reshape)\n",
    "        xs = xs.reshape(N * T, V)\n",
    "        ts = ts.reshape(N * T)\n",
    "        mask = mask.reshape(N * T)\n",
    "        \n",
    "        ys = softmax(xs)\n",
    "        ls = np.log(ys[np.arange(N * T), ts])\n",
    "        ls *= mask  # ignore_label에 해당하는 데이터는 손실을 0으로 설정\n",
    "        loss = -np.sum(ls)\n",
    "        loss /= mask.sum()\n",
    "        \n",
    "        self.cache = (ts, ys, mask, (N, T, V))\n",
    "        return loss\n",
    "    \n",
    "    def backward(self, dout=1):\n",
    "        ts, ys, mask, (N, T, V) = self.cache\n",
    "        dx = ys\n",
    "        dx[np.arange(N * T), ts] -= 1\n",
    "        dx *= dout\n",
    "        dx /= mask.sum()\n",
    "        dx *= mask[:, np.newaxis]  # ignore_label에 해당하는 데이터는 기울기 0으로 설정\n",
    "        \n",
    "        dx = dx.reshape((N, T, V))\n",
    "        \n",
    "        return dx"
   ]
  },
  {
   "cell_type": "markdown",
   "metadata": {},
   "source": [
    " "
   ]
  },
  {
   "cell_type": "markdown",
   "metadata": {},
   "source": [
    "## 5.5 RNNLM 학습과 평가"
   ]
  },
  {
   "cell_type": "markdown",
   "metadata": {},
   "source": [
    "### 5.5.1 RNNLM 구현\n",
    "\n",
    "![](./images/rnnlm4.png)"
   ]
  },
  {
   "cell_type": "code",
   "execution_count": 6,
   "metadata": {},
   "outputs": [],
   "source": [
    "# chap05/simple_rnnlm.py\n",
    "import sys\n",
    "sys.path.append('..')\n",
    "import numpy as np\n",
    "from common.time_layers import *\n",
    "\n",
    "\n",
    "class SimpleRnnlm:\n",
    "    def __init__(self, vocab_size, wordvec_size, hidden_size):\n",
    "        V, D, H = vocab_size, wordvec_size, hidden_size\n",
    "        rn = np.random.randn\n",
    "        \n",
    "        # 가중치 초기화 (Xavier initialization)\n",
    "        embed_W = (rn(V, D) / 100).astype('f')\n",
    "        rnn_Wx = (rn(D, H) / np.sqrt(D)).astype('f')\n",
    "        rnn_Wh = (rn(H, H) / np.sqrt(H)).astype('f')\n",
    "        rnn_b = np.zeros(H).astype('f')\n",
    "        affine_W = (rn(H, V) / np.sqrt(H)).astype('f')\n",
    "        affine_b = np.zeros(V).astype('f')\n",
    "        \n",
    "        # 계층 생성\n",
    "        self.layers = [\n",
    "            TimeEmbedding(embed_W),\n",
    "            TimeRNN(rnn_Wx, rnn_Wh, rnn_b, stateful=True),\n",
    "            TimeAffine(affine_W, affine_b),\n",
    "        ]\n",
    "        self.loss_layer = TimeSoftmaxWithLoss()\n",
    "        self.rnn_layer = self.layers[1]\n",
    "        \n",
    "        # 모든 가중치와 기울기를 리스트에 모은다.\n",
    "        self.params, self.grads = [], []\n",
    "        for layer in self.layers:\n",
    "            self.params += layer.params\n",
    "            self.grads += layer.grads\n",
    "            \n",
    "    def forward(self, xs, ts):\n",
    "        for layer in self.layers:\n",
    "            xs = layer.forward(xs)\n",
    "        loss = self.loss_layer.forward(xs, ts)\n",
    "        return loss\n",
    "    \n",
    "    def backward(self, dout=1):\n",
    "        dout = self.loss_layer.backward(dout)\n",
    "        for layer in reversed(self.layers):\n",
    "            dout = layer.backward(dout)\n",
    "        return dout\n",
    "    \n",
    "    def reset_state(self):\n",
    "        self.rnn_layer.reset_state()"
   ]
  },
  {
   "cell_type": "markdown",
   "metadata": {},
   "source": [
    " "
   ]
  },
  {
   "cell_type": "markdown",
   "metadata": {},
   "source": [
    "### 5.5.2 언어 모델의 평가\n",
    "\n",
    "언어 모델은 주어진 과거 단어(정보)로부터 다음에 출현할 단어의 확률분포를 출력한다. 이 때 언어 모델의 예측 성능을 평가하는 척도로 **퍼플렉서티**(perplexity, 혼란도)를 이용한다. perplexity는 간단히 말하면 **'확률의 역수'**이다. 아래의 그림에서 확인할 수 있듯이 `perplexity`는 작을 수록 좋다.\n",
    "\n",
    "![](./images/perplexity.png)"
   ]
  },
  {
   "cell_type": "markdown",
   "metadata": {},
   "source": [
    "위의 그림에서 perplexity를 계산한 1.25나 5라는 값은 직관적으로 해석하자면, '분기수'(number of branches)로 해석할 수 있다. 분기 수란 다음에 취할 수 있는 선택사항의 수 죽, 다음에 출현할 수 있는 단어의 후보 수를 말한다. perplexity=1.25 라는 것은 다음에 출현할 수 있는 단어의 후보를 1개 정도로 좁혔다는 뜻이 된다."
   ]
  },
  {
   "cell_type": "markdown",
   "metadata": {},
   "source": [
    "위에서 살펴본 perplexity는 입력 데이터가 하나일 때의 경우였다. 입력 데이터가 여러 개일 때는 아래의 공식으로 perplexity를 계산한다.\n",
    "\n",
    "$$\n",
    "L = - \\frac{1}{N} \\sum_{n}{\\sum_{k}{t_{nk} \\log{y_{nk}}}}\n",
    "$$\n",
    "\n",
    "$$\n",
    "\\text{perplexity} = e^{L}\n",
    "$$"
   ]
  },
  {
   "cell_type": "markdown",
   "metadata": {},
   "source": [
    "위의 식에서 $N$은 데이터의 총 개수를 의미하고, $t_n$은 원핫 벡터로 나타낸 정답레이블이며, $t_{nk}$는 $n$개째 데이터의 $k$번째 값을 의미한다. $y_{nk}$는 softmax의 출력으로 확률분포를 의미한다. $L$은 우리가 흔히 알고 있는 신경망에서의 손실(loss)이며, 여기서는 CEE에 해당한다. 이 $L$을 이용해 $e^{L}$을 계산한 것이 바로 perplexity이다."
   ]
  },
  {
   "cell_type": "markdown",
   "metadata": {},
   "source": [
    " "
   ]
  },
  {
   "cell_type": "markdown",
   "metadata": {},
   "source": [
    "### 5.5.3 RNNLM의 학습 코드"
   ]
  },
  {
   "cell_type": "code",
   "execution_count": 7,
   "metadata": {},
   "outputs": [
    {
     "output_type": "stream",
     "name": "stdout",
     "text": [
      "말뭉치 크기: 1000, 어휘 수: 418\n",
      "| 에폭 1 | 퍼플렉서티 414.57\n",
      "| 에폭 2 | 퍼플렉서티 291.04\n",
      "| 에폭 3 | 퍼플렉서티 231.80\n",
      "| 에폭 4 | 퍼플렉서티 219.88\n",
      "| 에폭 5 | 퍼플렉서티 206.60\n",
      "| 에폭 6 | 퍼플렉서티 203.00\n",
      "| 에폭 7 | 퍼플렉서티 200.32\n",
      "| 에폭 8 | 퍼플렉서티 196.99\n",
      "| 에폭 9 | 퍼플렉서티 191.52\n",
      "| 에폭 10 | 퍼플렉서티 192.17\n",
      "| 에폭 11 | 퍼플렉서티 188.78\n",
      "| 에폭 12 | 퍼플렉서티 192.89\n",
      "| 에폭 13 | 퍼플렉서티 189.55\n",
      "| 에폭 14 | 퍼플렉서티 189.00\n",
      "| 에폭 15 | 퍼플렉서티 188.04\n",
      "| 에폭 16 | 퍼플렉서티 184.39\n",
      "| 에폭 17 | 퍼플렉서티 182.80\n",
      "| 에폭 18 | 퍼플렉서티 179.18\n",
      "| 에폭 19 | 퍼플렉서티 180.24\n",
      "| 에폭 20 | 퍼플렉서티 182.79\n",
      "| 에폭 21 | 퍼플렉서티 181.27\n",
      "| 에폭 22 | 퍼플렉서티 176.16\n",
      "| 에폭 23 | 퍼플렉서티 175.14\n",
      "| 에폭 24 | 퍼플렉서티 175.81\n",
      "| 에폭 25 | 퍼플렉서티 171.73\n",
      "| 에폭 26 | 퍼플렉서티 171.42\n",
      "| 에폭 27 | 퍼플렉서티 165.61\n",
      "| 에폭 28 | 퍼플렉서티 166.39\n",
      "| 에폭 29 | 퍼플렉서티 161.98\n",
      "| 에폭 30 | 퍼플렉서티 154.29\n",
      "| 에폭 31 | 퍼플렉서티 156.38\n",
      "| 에폭 32 | 퍼플렉서티 150.38\n",
      "| 에폭 33 | 퍼플렉서티 151.87\n",
      "| 에폭 34 | 퍼플렉서티 143.37\n",
      "| 에폭 35 | 퍼플렉서티 142.72\n",
      "| 에폭 36 | 퍼플렉서티 137.94\n",
      "| 에폭 37 | 퍼플렉서티 130.46\n",
      "| 에폭 38 | 퍼플렉서티 130.21\n",
      "| 에폭 39 | 퍼플렉서티 122.42\n",
      "| 에폭 40 | 퍼플렉서티 118.84\n",
      "| 에폭 41 | 퍼플렉서티 117.53\n",
      "| 에폭 42 | 퍼플렉서티 111.84\n",
      "| 에폭 43 | 퍼플렉서티 106.00\n",
      "| 에폭 44 | 퍼플렉서티 101.31\n",
      "| 에폭 45 | 퍼플렉서티 98.60\n",
      "| 에폭 46 | 퍼플렉서티 96.68\n",
      "| 에폭 47 | 퍼플렉서티 90.90\n",
      "| 에폭 48 | 퍼플렉서티 85.25\n",
      "| 에폭 49 | 퍼플렉서티 82.76\n",
      "| 에폭 50 | 퍼플렉서티 79.34\n",
      "| 에폭 51 | 퍼플렉서티 74.74\n",
      "| 에폭 52 | 퍼플렉서티 71.87\n",
      "| 에폭 53 | 퍼플렉서티 67.19\n",
      "| 에폭 54 | 퍼플렉서티 66.00\n",
      "| 에폭 55 | 퍼플렉서티 61.01\n",
      "| 에폭 56 | 퍼플렉서티 58.05\n",
      "| 에폭 57 | 퍼플렉서티 55.76\n",
      "| 에폭 58 | 퍼플렉서티 53.11\n",
      "| 에폭 59 | 퍼플렉서티 49.19\n",
      "| 에폭 60 | 퍼플렉서티 46.96\n",
      "| 에폭 61 | 퍼플렉서티 44.99\n",
      "| 에폭 62 | 퍼플렉서티 42.53\n",
      "| 에폭 63 | 퍼플렉서티 39.07\n",
      "| 에폭 64 | 퍼플렉서티 37.25\n",
      "| 에폭 65 | 퍼플렉서티 35.45\n",
      "| 에폭 66 | 퍼플렉서티 33.42\n",
      "| 에폭 67 | 퍼플렉서티 32.11\n",
      "| 에폭 68 | 퍼플렉서티 28.87\n",
      "| 에폭 69 | 퍼플렉서티 27.75\n",
      "| 에폭 70 | 퍼플렉서티 26.51\n",
      "| 에폭 71 | 퍼플렉서티 25.00\n",
      "| 에폭 72 | 퍼플렉서티 23.81\n",
      "| 에폭 73 | 퍼플렉서티 22.52\n",
      "| 에폭 74 | 퍼플렉서티 21.48\n",
      "| 에폭 75 | 퍼플렉서티 20.44\n",
      "| 에폭 76 | 퍼플렉서티 18.90\n",
      "| 에폭 77 | 퍼플렉서티 17.98\n",
      "| 에폭 78 | 퍼플렉서티 16.67\n",
      "| 에폭 79 | 퍼플렉서티 16.02\n",
      "| 에폭 80 | 퍼플렉서티 14.89\n",
      "| 에폭 81 | 퍼플렉서티 15.06\n",
      "| 에폭 82 | 퍼플렉서티 13.72\n",
      "| 에폭 83 | 퍼플렉서티 13.24\n",
      "| 에폭 84 | 퍼플렉서티 12.40\n",
      "| 에폭 85 | 퍼플렉서티 11.98\n",
      "| 에폭 86 | 퍼플렉서티 11.27\n",
      "| 에폭 87 | 퍼플렉서티 10.94\n",
      "| 에폭 88 | 퍼플렉서티 9.96\n",
      "| 에폭 89 | 퍼플렉서티 9.79\n",
      "| 에폭 90 | 퍼플렉서티 9.49\n",
      "| 에폭 91 | 퍼플렉서티 8.77\n",
      "| 에폭 92 | 퍼플렉서티 8.47\n",
      "| 에폭 93 | 퍼플렉서티 8.04\n",
      "| 에폭 94 | 퍼플렉서티 7.74\n",
      "| 에폭 95 | 퍼플렉서티 7.80\n",
      "| 에폭 96 | 퍼플렉서티 7.02\n",
      "| 에폭 97 | 퍼플렉서티 6.92\n",
      "| 에폭 98 | 퍼플렉서티 6.14\n",
      "| 에폭 99 | 퍼플렉서티 6.05\n",
      "| 에폭 100 | 퍼플렉서티 5.86\n"
     ]
    },
    {
     "output_type": "display_data",
     "data": {
      "text/plain": "<Figure size 432x288 with 1 Axes>",
      "image/svg+xml": "<?xml version=\"1.0\" encoding=\"utf-8\" standalone=\"no\"?>\r\n<!DOCTYPE svg PUBLIC \"-//W3C//DTD SVG 1.1//EN\"\r\n  \"http://www.w3.org/Graphics/SVG/1.1/DTD/svg11.dtd\">\r\n<svg height=\"262.19625pt\" version=\"1.1\" viewBox=\"0 0 388.965625 262.19625\" width=\"388.965625pt\" xmlns=\"http://www.w3.org/2000/svg\" xmlns:xlink=\"http://www.w3.org/1999/xlink\">\r\n <metadata>\r\n  <rdf:RDF xmlns:cc=\"http://creativecommons.org/ns#\" xmlns:dc=\"http://purl.org/dc/elements/1.1/\" xmlns:rdf=\"http://www.w3.org/1999/02/22-rdf-syntax-ns#\">\r\n   <cc:Work>\r\n    <dc:type rdf:resource=\"http://purl.org/dc/dcmitype/StillImage\"/>\r\n    <dc:date>2021-06-19T00:38:34.523195</dc:date>\r\n    <dc:format>image/svg+xml</dc:format>\r\n    <dc:creator>\r\n     <cc:Agent>\r\n      <dc:title>Matplotlib v3.4.2, https://matplotlib.org/</dc:title>\r\n     </cc:Agent>\r\n    </dc:creator>\r\n   </cc:Work>\r\n  </rdf:RDF>\r\n </metadata>\r\n <defs>\r\n  <style type=\"text/css\">*{stroke-linecap:butt;stroke-linejoin:round;}</style>\r\n </defs>\r\n <g id=\"figure_1\">\r\n  <g id=\"patch_1\">\r\n   <path d=\"M 0 262.19625 \r\nL 388.965625 262.19625 \r\nL 388.965625 0 \r\nL 0 0 \r\nz\r\n\" style=\"fill:none;\"/>\r\n  </g>\r\n  <g id=\"axes_1\">\r\n   <g id=\"patch_2\">\r\n    <path d=\"M 46.965625 224.64 \r\nL 381.765625 224.64 \r\nL 381.765625 7.2 \r\nL 46.965625 7.2 \r\nz\r\n\" style=\"fill:#ffffff;\"/>\r\n   </g>\r\n   <g id=\"matplotlib.axis_1\">\r\n    <g id=\"xtick_1\">\r\n     <g id=\"line2d_1\">\r\n      <defs>\r\n       <path d=\"M 0 0 \r\nL 0 3.5 \r\n\" id=\"mf2cf73c174\" style=\"stroke:#000000;stroke-width:0.8;\"/>\r\n      </defs>\r\n      <g>\r\n       <use style=\"stroke:#000000;stroke-width:0.8;\" x=\"62.183807\" xlink:href=\"#mf2cf73c174\" y=\"224.64\"/>\r\n      </g>\r\n     </g>\r\n     <g id=\"text_1\">\r\n      <!-- 0 -->\r\n      <g transform=\"translate(59.002557 239.238438)scale(0.1 -0.1)\">\r\n       <defs>\r\n        <path d=\"M 2034 4250 \r\nQ 1547 4250 1301 3770 \r\nQ 1056 3291 1056 2328 \r\nQ 1056 1369 1301 889 \r\nQ 1547 409 2034 409 \r\nQ 2525 409 2770 889 \r\nQ 3016 1369 3016 2328 \r\nQ 3016 3291 2770 3770 \r\nQ 2525 4250 2034 4250 \r\nz\r\nM 2034 4750 \r\nQ 2819 4750 3233 4129 \r\nQ 3647 3509 3647 2328 \r\nQ 3647 1150 3233 529 \r\nQ 2819 -91 2034 -91 \r\nQ 1250 -91 836 529 \r\nQ 422 1150 422 2328 \r\nQ 422 3509 836 4129 \r\nQ 1250 4750 2034 4750 \r\nz\r\n\" id=\"DejaVuSans-30\" transform=\"scale(0.015625)\"/>\r\n       </defs>\r\n       <use xlink:href=\"#DejaVuSans-30\"/>\r\n      </g>\r\n     </g>\r\n    </g>\r\n    <g id=\"xtick_2\">\r\n     <g id=\"line2d_2\">\r\n      <g>\r\n       <use style=\"stroke:#000000;stroke-width:0.8;\" x=\"123.67141\" xlink:href=\"#mf2cf73c174\" y=\"224.64\"/>\r\n      </g>\r\n     </g>\r\n     <g id=\"text_2\">\r\n      <!-- 20 -->\r\n      <g transform=\"translate(117.30891 239.238438)scale(0.1 -0.1)\">\r\n       <defs>\r\n        <path d=\"M 1228 531 \r\nL 3431 531 \r\nL 3431 0 \r\nL 469 0 \r\nL 469 531 \r\nQ 828 903 1448 1529 \r\nQ 2069 2156 2228 2338 \r\nQ 2531 2678 2651 2914 \r\nQ 2772 3150 2772 3378 \r\nQ 2772 3750 2511 3984 \r\nQ 2250 4219 1831 4219 \r\nQ 1534 4219 1204 4116 \r\nQ 875 4013 500 3803 \r\nL 500 4441 \r\nQ 881 4594 1212 4672 \r\nQ 1544 4750 1819 4750 \r\nQ 2544 4750 2975 4387 \r\nQ 3406 4025 3406 3419 \r\nQ 3406 3131 3298 2873 \r\nQ 3191 2616 2906 2266 \r\nQ 2828 2175 2409 1742 \r\nQ 1991 1309 1228 531 \r\nz\r\n\" id=\"DejaVuSans-32\" transform=\"scale(0.015625)\"/>\r\n       </defs>\r\n       <use xlink:href=\"#DejaVuSans-32\"/>\r\n       <use x=\"63.623047\" xlink:href=\"#DejaVuSans-30\"/>\r\n      </g>\r\n     </g>\r\n    </g>\r\n    <g id=\"xtick_3\">\r\n     <g id=\"line2d_3\">\r\n      <g>\r\n       <use style=\"stroke:#000000;stroke-width:0.8;\" x=\"185.159013\" xlink:href=\"#mf2cf73c174\" y=\"224.64\"/>\r\n      </g>\r\n     </g>\r\n     <g id=\"text_3\">\r\n      <!-- 40 -->\r\n      <g transform=\"translate(178.796513 239.238438)scale(0.1 -0.1)\">\r\n       <defs>\r\n        <path d=\"M 2419 4116 \r\nL 825 1625 \r\nL 2419 1625 \r\nL 2419 4116 \r\nz\r\nM 2253 4666 \r\nL 3047 4666 \r\nL 3047 1625 \r\nL 3713 1625 \r\nL 3713 1100 \r\nL 3047 1100 \r\nL 3047 0 \r\nL 2419 0 \r\nL 2419 1100 \r\nL 313 1100 \r\nL 313 1709 \r\nL 2253 4666 \r\nz\r\n\" id=\"DejaVuSans-34\" transform=\"scale(0.015625)\"/>\r\n       </defs>\r\n       <use xlink:href=\"#DejaVuSans-34\"/>\r\n       <use x=\"63.623047\" xlink:href=\"#DejaVuSans-30\"/>\r\n      </g>\r\n     </g>\r\n    </g>\r\n    <g id=\"xtick_4\">\r\n     <g id=\"line2d_4\">\r\n      <g>\r\n       <use style=\"stroke:#000000;stroke-width:0.8;\" x=\"246.646617\" xlink:href=\"#mf2cf73c174\" y=\"224.64\"/>\r\n      </g>\r\n     </g>\r\n     <g id=\"text_4\">\r\n      <!-- 60 -->\r\n      <g transform=\"translate(240.284117 239.238438)scale(0.1 -0.1)\">\r\n       <defs>\r\n        <path d=\"M 2113 2584 \r\nQ 1688 2584 1439 2293 \r\nQ 1191 2003 1191 1497 \r\nQ 1191 994 1439 701 \r\nQ 1688 409 2113 409 \r\nQ 2538 409 2786 701 \r\nQ 3034 994 3034 1497 \r\nQ 3034 2003 2786 2293 \r\nQ 2538 2584 2113 2584 \r\nz\r\nM 3366 4563 \r\nL 3366 3988 \r\nQ 3128 4100 2886 4159 \r\nQ 2644 4219 2406 4219 \r\nQ 1781 4219 1451 3797 \r\nQ 1122 3375 1075 2522 \r\nQ 1259 2794 1537 2939 \r\nQ 1816 3084 2150 3084 \r\nQ 2853 3084 3261 2657 \r\nQ 3669 2231 3669 1497 \r\nQ 3669 778 3244 343 \r\nQ 2819 -91 2113 -91 \r\nQ 1303 -91 875 529 \r\nQ 447 1150 447 2328 \r\nQ 447 3434 972 4092 \r\nQ 1497 4750 2381 4750 \r\nQ 2619 4750 2861 4703 \r\nQ 3103 4656 3366 4563 \r\nz\r\n\" id=\"DejaVuSans-36\" transform=\"scale(0.015625)\"/>\r\n       </defs>\r\n       <use xlink:href=\"#DejaVuSans-36\"/>\r\n       <use x=\"63.623047\" xlink:href=\"#DejaVuSans-30\"/>\r\n      </g>\r\n     </g>\r\n    </g>\r\n    <g id=\"xtick_5\">\r\n     <g id=\"line2d_5\">\r\n      <g>\r\n       <use style=\"stroke:#000000;stroke-width:0.8;\" x=\"308.13422\" xlink:href=\"#mf2cf73c174\" y=\"224.64\"/>\r\n      </g>\r\n     </g>\r\n     <g id=\"text_5\">\r\n      <!-- 80 -->\r\n      <g transform=\"translate(301.77172 239.238438)scale(0.1 -0.1)\">\r\n       <defs>\r\n        <path d=\"M 2034 2216 \r\nQ 1584 2216 1326 1975 \r\nQ 1069 1734 1069 1313 \r\nQ 1069 891 1326 650 \r\nQ 1584 409 2034 409 \r\nQ 2484 409 2743 651 \r\nQ 3003 894 3003 1313 \r\nQ 3003 1734 2745 1975 \r\nQ 2488 2216 2034 2216 \r\nz\r\nM 1403 2484 \r\nQ 997 2584 770 2862 \r\nQ 544 3141 544 3541 \r\nQ 544 4100 942 4425 \r\nQ 1341 4750 2034 4750 \r\nQ 2731 4750 3128 4425 \r\nQ 3525 4100 3525 3541 \r\nQ 3525 3141 3298 2862 \r\nQ 3072 2584 2669 2484 \r\nQ 3125 2378 3379 2068 \r\nQ 3634 1759 3634 1313 \r\nQ 3634 634 3220 271 \r\nQ 2806 -91 2034 -91 \r\nQ 1263 -91 848 271 \r\nQ 434 634 434 1313 \r\nQ 434 1759 690 2068 \r\nQ 947 2378 1403 2484 \r\nz\r\nM 1172 3481 \r\nQ 1172 3119 1398 2916 \r\nQ 1625 2713 2034 2713 \r\nQ 2441 2713 2670 2916 \r\nQ 2900 3119 2900 3481 \r\nQ 2900 3844 2670 4047 \r\nQ 2441 4250 2034 4250 \r\nQ 1625 4250 1398 4047 \r\nQ 1172 3844 1172 3481 \r\nz\r\n\" id=\"DejaVuSans-38\" transform=\"scale(0.015625)\"/>\r\n       </defs>\r\n       <use xlink:href=\"#DejaVuSans-38\"/>\r\n       <use x=\"63.623047\" xlink:href=\"#DejaVuSans-30\"/>\r\n      </g>\r\n     </g>\r\n    </g>\r\n    <g id=\"xtick_6\">\r\n     <g id=\"line2d_6\">\r\n      <g>\r\n       <use style=\"stroke:#000000;stroke-width:0.8;\" x=\"369.621823\" xlink:href=\"#mf2cf73c174\" y=\"224.64\"/>\r\n      </g>\r\n     </g>\r\n     <g id=\"text_6\">\r\n      <!-- 100 -->\r\n      <g transform=\"translate(360.078073 239.238438)scale(0.1 -0.1)\">\r\n       <defs>\r\n        <path d=\"M 794 531 \r\nL 1825 531 \r\nL 1825 4091 \r\nL 703 3866 \r\nL 703 4441 \r\nL 1819 4666 \r\nL 2450 4666 \r\nL 2450 531 \r\nL 3481 531 \r\nL 3481 0 \r\nL 794 0 \r\nL 794 531 \r\nz\r\n\" id=\"DejaVuSans-31\" transform=\"scale(0.015625)\"/>\r\n       </defs>\r\n       <use xlink:href=\"#DejaVuSans-31\"/>\r\n       <use x=\"63.623047\" xlink:href=\"#DejaVuSans-30\"/>\r\n       <use x=\"127.246094\" xlink:href=\"#DejaVuSans-30\"/>\r\n      </g>\r\n     </g>\r\n    </g>\r\n    <g id=\"text_7\">\r\n     <!-- epochs -->\r\n     <g transform=\"translate(196.532813 252.916563)scale(0.1 -0.1)\">\r\n      <defs>\r\n       <path d=\"M 3597 1894 \r\nL 3597 1613 \r\nL 953 1613 \r\nQ 991 1019 1311 708 \r\nQ 1631 397 2203 397 \r\nQ 2534 397 2845 478 \r\nQ 3156 559 3463 722 \r\nL 3463 178 \r\nQ 3153 47 2828 -22 \r\nQ 2503 -91 2169 -91 \r\nQ 1331 -91 842 396 \r\nQ 353 884 353 1716 \r\nQ 353 2575 817 3079 \r\nQ 1281 3584 2069 3584 \r\nQ 2775 3584 3186 3129 \r\nQ 3597 2675 3597 1894 \r\nz\r\nM 3022 2063 \r\nQ 3016 2534 2758 2815 \r\nQ 2500 3097 2075 3097 \r\nQ 1594 3097 1305 2825 \r\nQ 1016 2553 972 2059 \r\nL 3022 2063 \r\nz\r\n\" id=\"DejaVuSans-65\" transform=\"scale(0.015625)\"/>\r\n       <path d=\"M 1159 525 \r\nL 1159 -1331 \r\nL 581 -1331 \r\nL 581 3500 \r\nL 1159 3500 \r\nL 1159 2969 \r\nQ 1341 3281 1617 3432 \r\nQ 1894 3584 2278 3584 \r\nQ 2916 3584 3314 3078 \r\nQ 3713 2572 3713 1747 \r\nQ 3713 922 3314 415 \r\nQ 2916 -91 2278 -91 \r\nQ 1894 -91 1617 61 \r\nQ 1341 213 1159 525 \r\nz\r\nM 3116 1747 \r\nQ 3116 2381 2855 2742 \r\nQ 2594 3103 2138 3103 \r\nQ 1681 3103 1420 2742 \r\nQ 1159 2381 1159 1747 \r\nQ 1159 1113 1420 752 \r\nQ 1681 391 2138 391 \r\nQ 2594 391 2855 752 \r\nQ 3116 1113 3116 1747 \r\nz\r\n\" id=\"DejaVuSans-70\" transform=\"scale(0.015625)\"/>\r\n       <path d=\"M 1959 3097 \r\nQ 1497 3097 1228 2736 \r\nQ 959 2375 959 1747 \r\nQ 959 1119 1226 758 \r\nQ 1494 397 1959 397 \r\nQ 2419 397 2687 759 \r\nQ 2956 1122 2956 1747 \r\nQ 2956 2369 2687 2733 \r\nQ 2419 3097 1959 3097 \r\nz\r\nM 1959 3584 \r\nQ 2709 3584 3137 3096 \r\nQ 3566 2609 3566 1747 \r\nQ 3566 888 3137 398 \r\nQ 2709 -91 1959 -91 \r\nQ 1206 -91 779 398 \r\nQ 353 888 353 1747 \r\nQ 353 2609 779 3096 \r\nQ 1206 3584 1959 3584 \r\nz\r\n\" id=\"DejaVuSans-6f\" transform=\"scale(0.015625)\"/>\r\n       <path d=\"M 3122 3366 \r\nL 3122 2828 \r\nQ 2878 2963 2633 3030 \r\nQ 2388 3097 2138 3097 \r\nQ 1578 3097 1268 2742 \r\nQ 959 2388 959 1747 \r\nQ 959 1106 1268 751 \r\nQ 1578 397 2138 397 \r\nQ 2388 397 2633 464 \r\nQ 2878 531 3122 666 \r\nL 3122 134 \r\nQ 2881 22 2623 -34 \r\nQ 2366 -91 2075 -91 \r\nQ 1284 -91 818 406 \r\nQ 353 903 353 1747 \r\nQ 353 2603 823 3093 \r\nQ 1294 3584 2113 3584 \r\nQ 2378 3584 2631 3529 \r\nQ 2884 3475 3122 3366 \r\nz\r\n\" id=\"DejaVuSans-63\" transform=\"scale(0.015625)\"/>\r\n       <path d=\"M 3513 2113 \r\nL 3513 0 \r\nL 2938 0 \r\nL 2938 2094 \r\nQ 2938 2591 2744 2837 \r\nQ 2550 3084 2163 3084 \r\nQ 1697 3084 1428 2787 \r\nQ 1159 2491 1159 1978 \r\nL 1159 0 \r\nL 581 0 \r\nL 581 4863 \r\nL 1159 4863 \r\nL 1159 2956 \r\nQ 1366 3272 1645 3428 \r\nQ 1925 3584 2291 3584 \r\nQ 2894 3584 3203 3211 \r\nQ 3513 2838 3513 2113 \r\nz\r\n\" id=\"DejaVuSans-68\" transform=\"scale(0.015625)\"/>\r\n       <path d=\"M 2834 3397 \r\nL 2834 2853 \r\nQ 2591 2978 2328 3040 \r\nQ 2066 3103 1784 3103 \r\nQ 1356 3103 1142 2972 \r\nQ 928 2841 928 2578 \r\nQ 928 2378 1081 2264 \r\nQ 1234 2150 1697 2047 \r\nL 1894 2003 \r\nQ 2506 1872 2764 1633 \r\nQ 3022 1394 3022 966 \r\nQ 3022 478 2636 193 \r\nQ 2250 -91 1575 -91 \r\nQ 1294 -91 989 -36 \r\nQ 684 19 347 128 \r\nL 347 722 \r\nQ 666 556 975 473 \r\nQ 1284 391 1588 391 \r\nQ 1994 391 2212 530 \r\nQ 2431 669 2431 922 \r\nQ 2431 1156 2273 1281 \r\nQ 2116 1406 1581 1522 \r\nL 1381 1569 \r\nQ 847 1681 609 1914 \r\nQ 372 2147 372 2553 \r\nQ 372 3047 722 3315 \r\nQ 1072 3584 1716 3584 \r\nQ 2034 3584 2315 3537 \r\nQ 2597 3491 2834 3397 \r\nz\r\n\" id=\"DejaVuSans-73\" transform=\"scale(0.015625)\"/>\r\n      </defs>\r\n      <use xlink:href=\"#DejaVuSans-65\"/>\r\n      <use x=\"61.523438\" xlink:href=\"#DejaVuSans-70\"/>\r\n      <use x=\"125\" xlink:href=\"#DejaVuSans-6f\"/>\r\n      <use x=\"186.181641\" xlink:href=\"#DejaVuSans-63\"/>\r\n      <use x=\"241.162109\" xlink:href=\"#DejaVuSans-68\"/>\r\n      <use x=\"304.541016\" xlink:href=\"#DejaVuSans-73\"/>\r\n     </g>\r\n    </g>\r\n   </g>\r\n   <g id=\"matplotlib.axis_2\">\r\n    <g id=\"ytick_1\">\r\n     <g id=\"line2d_7\">\r\n      <defs>\r\n       <path d=\"M 0 0 \r\nL -3.5 0 \r\n\" id=\"m17262cecf5\" style=\"stroke:#000000;stroke-width:0.8;\"/>\r\n      </defs>\r\n      <g>\r\n       <use style=\"stroke:#000000;stroke-width:0.8;\" x=\"46.965625\" xlink:href=\"#m17262cecf5\" y=\"217.588914\"/>\r\n      </g>\r\n     </g>\r\n     <g id=\"text_8\">\r\n      <!-- 0 -->\r\n      <g transform=\"translate(33.603125 221.388133)scale(0.1 -0.1)\">\r\n       <use xlink:href=\"#DejaVuSans-30\"/>\r\n      </g>\r\n     </g>\r\n    </g>\r\n    <g id=\"ytick_2\">\r\n     <g id=\"line2d_8\">\r\n      <g>\r\n       <use style=\"stroke:#000000;stroke-width:0.8;\" x=\"46.965625\" xlink:href=\"#m17262cecf5\" y=\"193.406316\"/>\r\n      </g>\r\n     </g>\r\n     <g id=\"text_9\">\r\n      <!-- 50 -->\r\n      <g transform=\"translate(27.240625 197.205535)scale(0.1 -0.1)\">\r\n       <defs>\r\n        <path d=\"M 691 4666 \r\nL 3169 4666 \r\nL 3169 4134 \r\nL 1269 4134 \r\nL 1269 2991 \r\nQ 1406 3038 1543 3061 \r\nQ 1681 3084 1819 3084 \r\nQ 2600 3084 3056 2656 \r\nQ 3513 2228 3513 1497 \r\nQ 3513 744 3044 326 \r\nQ 2575 -91 1722 -91 \r\nQ 1428 -91 1123 -41 \r\nQ 819 9 494 109 \r\nL 494 744 \r\nQ 775 591 1075 516 \r\nQ 1375 441 1709 441 \r\nQ 2250 441 2565 725 \r\nQ 2881 1009 2881 1497 \r\nQ 2881 1984 2565 2268 \r\nQ 2250 2553 1709 2553 \r\nQ 1456 2553 1204 2497 \r\nQ 953 2441 691 2322 \r\nL 691 4666 \r\nz\r\n\" id=\"DejaVuSans-35\" transform=\"scale(0.015625)\"/>\r\n       </defs>\r\n       <use xlink:href=\"#DejaVuSans-35\"/>\r\n       <use x=\"63.623047\" xlink:href=\"#DejaVuSans-30\"/>\r\n      </g>\r\n     </g>\r\n    </g>\r\n    <g id=\"ytick_3\">\r\n     <g id=\"line2d_9\">\r\n      <g>\r\n       <use style=\"stroke:#000000;stroke-width:0.8;\" x=\"46.965625\" xlink:href=\"#m17262cecf5\" y=\"169.223718\"/>\r\n      </g>\r\n     </g>\r\n     <g id=\"text_10\">\r\n      <!-- 100 -->\r\n      <g transform=\"translate(20.878125 173.022937)scale(0.1 -0.1)\">\r\n       <use xlink:href=\"#DejaVuSans-31\"/>\r\n       <use x=\"63.623047\" xlink:href=\"#DejaVuSans-30\"/>\r\n       <use x=\"127.246094\" xlink:href=\"#DejaVuSans-30\"/>\r\n      </g>\r\n     </g>\r\n    </g>\r\n    <g id=\"ytick_4\">\r\n     <g id=\"line2d_10\">\r\n      <g>\r\n       <use style=\"stroke:#000000;stroke-width:0.8;\" x=\"46.965625\" xlink:href=\"#m17262cecf5\" y=\"145.04112\"/>\r\n      </g>\r\n     </g>\r\n     <g id=\"text_11\">\r\n      <!-- 150 -->\r\n      <g transform=\"translate(20.878125 148.840339)scale(0.1 -0.1)\">\r\n       <use xlink:href=\"#DejaVuSans-31\"/>\r\n       <use x=\"63.623047\" xlink:href=\"#DejaVuSans-35\"/>\r\n       <use x=\"127.246094\" xlink:href=\"#DejaVuSans-30\"/>\r\n      </g>\r\n     </g>\r\n    </g>\r\n    <g id=\"ytick_5\">\r\n     <g id=\"line2d_11\">\r\n      <g>\r\n       <use style=\"stroke:#000000;stroke-width:0.8;\" x=\"46.965625\" xlink:href=\"#m17262cecf5\" y=\"120.858522\"/>\r\n      </g>\r\n     </g>\r\n     <g id=\"text_12\">\r\n      <!-- 200 -->\r\n      <g transform=\"translate(20.878125 124.657741)scale(0.1 -0.1)\">\r\n       <use xlink:href=\"#DejaVuSans-32\"/>\r\n       <use x=\"63.623047\" xlink:href=\"#DejaVuSans-30\"/>\r\n       <use x=\"127.246094\" xlink:href=\"#DejaVuSans-30\"/>\r\n      </g>\r\n     </g>\r\n    </g>\r\n    <g id=\"ytick_6\">\r\n     <g id=\"line2d_12\">\r\n      <g>\r\n       <use style=\"stroke:#000000;stroke-width:0.8;\" x=\"46.965625\" xlink:href=\"#m17262cecf5\" y=\"96.675924\"/>\r\n      </g>\r\n     </g>\r\n     <g id=\"text_13\">\r\n      <!-- 250 -->\r\n      <g transform=\"translate(20.878125 100.475143)scale(0.1 -0.1)\">\r\n       <use xlink:href=\"#DejaVuSans-32\"/>\r\n       <use x=\"63.623047\" xlink:href=\"#DejaVuSans-35\"/>\r\n       <use x=\"127.246094\" xlink:href=\"#DejaVuSans-30\"/>\r\n      </g>\r\n     </g>\r\n    </g>\r\n    <g id=\"ytick_7\">\r\n     <g id=\"line2d_13\">\r\n      <g>\r\n       <use style=\"stroke:#000000;stroke-width:0.8;\" x=\"46.965625\" xlink:href=\"#m17262cecf5\" y=\"72.493326\"/>\r\n      </g>\r\n     </g>\r\n     <g id=\"text_14\">\r\n      <!-- 300 -->\r\n      <g transform=\"translate(20.878125 76.292545)scale(0.1 -0.1)\">\r\n       <defs>\r\n        <path d=\"M 2597 2516 \r\nQ 3050 2419 3304 2112 \r\nQ 3559 1806 3559 1356 \r\nQ 3559 666 3084 287 \r\nQ 2609 -91 1734 -91 \r\nQ 1441 -91 1130 -33 \r\nQ 819 25 488 141 \r\nL 488 750 \r\nQ 750 597 1062 519 \r\nQ 1375 441 1716 441 \r\nQ 2309 441 2620 675 \r\nQ 2931 909 2931 1356 \r\nQ 2931 1769 2642 2001 \r\nQ 2353 2234 1838 2234 \r\nL 1294 2234 \r\nL 1294 2753 \r\nL 1863 2753 \r\nQ 2328 2753 2575 2939 \r\nQ 2822 3125 2822 3475 \r\nQ 2822 3834 2567 4026 \r\nQ 2313 4219 1838 4219 \r\nQ 1578 4219 1281 4162 \r\nQ 984 4106 628 3988 \r\nL 628 4550 \r\nQ 988 4650 1302 4700 \r\nQ 1616 4750 1894 4750 \r\nQ 2613 4750 3031 4423 \r\nQ 3450 4097 3450 3541 \r\nQ 3450 3153 3228 2886 \r\nQ 3006 2619 2597 2516 \r\nz\r\n\" id=\"DejaVuSans-33\" transform=\"scale(0.015625)\"/>\r\n       </defs>\r\n       <use xlink:href=\"#DejaVuSans-33\"/>\r\n       <use x=\"63.623047\" xlink:href=\"#DejaVuSans-30\"/>\r\n       <use x=\"127.246094\" xlink:href=\"#DejaVuSans-30\"/>\r\n      </g>\r\n     </g>\r\n    </g>\r\n    <g id=\"ytick_8\">\r\n     <g id=\"line2d_14\">\r\n      <g>\r\n       <use style=\"stroke:#000000;stroke-width:0.8;\" x=\"46.965625\" xlink:href=\"#m17262cecf5\" y=\"48.310728\"/>\r\n      </g>\r\n     </g>\r\n     <g id=\"text_15\">\r\n      <!-- 350 -->\r\n      <g transform=\"translate(20.878125 52.109947)scale(0.1 -0.1)\">\r\n       <use xlink:href=\"#DejaVuSans-33\"/>\r\n       <use x=\"63.623047\" xlink:href=\"#DejaVuSans-35\"/>\r\n       <use x=\"127.246094\" xlink:href=\"#DejaVuSans-30\"/>\r\n      </g>\r\n     </g>\r\n    </g>\r\n    <g id=\"ytick_9\">\r\n     <g id=\"line2d_15\">\r\n      <g>\r\n       <use style=\"stroke:#000000;stroke-width:0.8;\" x=\"46.965625\" xlink:href=\"#m17262cecf5\" y=\"24.12813\"/>\r\n      </g>\r\n     </g>\r\n     <g id=\"text_16\">\r\n      <!-- 400 -->\r\n      <g transform=\"translate(20.878125 27.927348)scale(0.1 -0.1)\">\r\n       <use xlink:href=\"#DejaVuSans-34\"/>\r\n       <use x=\"63.623047\" xlink:href=\"#DejaVuSans-30\"/>\r\n       <use x=\"127.246094\" xlink:href=\"#DejaVuSans-30\"/>\r\n      </g>\r\n     </g>\r\n    </g>\r\n    <g id=\"text_17\">\r\n     <!-- perplexity -->\r\n     <g transform=\"translate(14.798438 141.046563)rotate(-90)scale(0.1 -0.1)\">\r\n      <defs>\r\n       <path d=\"M 2631 2963 \r\nQ 2534 3019 2420 3045 \r\nQ 2306 3072 2169 3072 \r\nQ 1681 3072 1420 2755 \r\nQ 1159 2438 1159 1844 \r\nL 1159 0 \r\nL 581 0 \r\nL 581 3500 \r\nL 1159 3500 \r\nL 1159 2956 \r\nQ 1341 3275 1631 3429 \r\nQ 1922 3584 2338 3584 \r\nQ 2397 3584 2469 3576 \r\nQ 2541 3569 2628 3553 \r\nL 2631 2963 \r\nz\r\n\" id=\"DejaVuSans-72\" transform=\"scale(0.015625)\"/>\r\n       <path d=\"M 603 4863 \r\nL 1178 4863 \r\nL 1178 0 \r\nL 603 0 \r\nL 603 4863 \r\nz\r\n\" id=\"DejaVuSans-6c\" transform=\"scale(0.015625)\"/>\r\n       <path d=\"M 3513 3500 \r\nL 2247 1797 \r\nL 3578 0 \r\nL 2900 0 \r\nL 1881 1375 \r\nL 863 0 \r\nL 184 0 \r\nL 1544 1831 \r\nL 300 3500 \r\nL 978 3500 \r\nL 1906 2253 \r\nL 2834 3500 \r\nL 3513 3500 \r\nz\r\n\" id=\"DejaVuSans-78\" transform=\"scale(0.015625)\"/>\r\n       <path d=\"M 603 3500 \r\nL 1178 3500 \r\nL 1178 0 \r\nL 603 0 \r\nL 603 3500 \r\nz\r\nM 603 4863 \r\nL 1178 4863 \r\nL 1178 4134 \r\nL 603 4134 \r\nL 603 4863 \r\nz\r\n\" id=\"DejaVuSans-69\" transform=\"scale(0.015625)\"/>\r\n       <path d=\"M 1172 4494 \r\nL 1172 3500 \r\nL 2356 3500 \r\nL 2356 3053 \r\nL 1172 3053 \r\nL 1172 1153 \r\nQ 1172 725 1289 603 \r\nQ 1406 481 1766 481 \r\nL 2356 481 \r\nL 2356 0 \r\nL 1766 0 \r\nQ 1100 0 847 248 \r\nQ 594 497 594 1153 \r\nL 594 3053 \r\nL 172 3053 \r\nL 172 3500 \r\nL 594 3500 \r\nL 594 4494 \r\nL 1172 4494 \r\nz\r\n\" id=\"DejaVuSans-74\" transform=\"scale(0.015625)\"/>\r\n       <path d=\"M 2059 -325 \r\nQ 1816 -950 1584 -1140 \r\nQ 1353 -1331 966 -1331 \r\nL 506 -1331 \r\nL 506 -850 \r\nL 844 -850 \r\nQ 1081 -850 1212 -737 \r\nQ 1344 -625 1503 -206 \r\nL 1606 56 \r\nL 191 3500 \r\nL 800 3500 \r\nL 1894 763 \r\nL 2988 3500 \r\nL 3597 3500 \r\nL 2059 -325 \r\nz\r\n\" id=\"DejaVuSans-79\" transform=\"scale(0.015625)\"/>\r\n      </defs>\r\n      <use xlink:href=\"#DejaVuSans-70\"/>\r\n      <use x=\"63.476562\" xlink:href=\"#DejaVuSans-65\"/>\r\n      <use x=\"125\" xlink:href=\"#DejaVuSans-72\"/>\r\n      <use x=\"166.113281\" xlink:href=\"#DejaVuSans-70\"/>\r\n      <use x=\"229.589844\" xlink:href=\"#DejaVuSans-6c\"/>\r\n      <use x=\"257.373047\" xlink:href=\"#DejaVuSans-65\"/>\r\n      <use x=\"317.146484\" xlink:href=\"#DejaVuSans-78\"/>\r\n      <use x=\"376.326172\" xlink:href=\"#DejaVuSans-69\"/>\r\n      <use x=\"404.109375\" xlink:href=\"#DejaVuSans-74\"/>\r\n      <use x=\"443.318359\" xlink:href=\"#DejaVuSans-79\"/>\r\n     </g>\r\n    </g>\r\n   </g>\r\n   <g id=\"line2d_16\">\r\n    <path clip-path=\"url(#p39029b0fe6)\" d=\"M 62.183807 17.083636 \r\nL 65.258187 76.827981 \r\nL 68.332567 105.477042 \r\nL 71.406947 111.244622 \r\nL 74.481327 117.665257 \r\nL 77.555708 119.407367 \r\nL 80.630088 120.705409 \r\nL 83.704468 122.316563 \r\nL 86.778848 124.95876 \r\nL 89.853228 124.644172 \r\nL 92.927608 126.284768 \r\nL 96.001989 124.297613 \r\nL 99.076369 125.913277 \r\nL 102.150749 126.17665 \r\nL 105.225129 126.64329 \r\nL 108.299509 128.410045 \r\nL 111.373889 129.175412 \r\nL 114.44827 130.926115 \r\nL 117.52265 130.414768 \r\nL 120.59703 129.184077 \r\nL 123.67141 129.915234 \r\nL 126.74579 132.387957 \r\nL 129.82017 132.883065 \r\nL 132.894551 132.55656 \r\nL 135.968931 134.529853 \r\nL 139.043311 134.681546 \r\nL 142.117691 137.492255 \r\nL 145.192071 137.115129 \r\nL 148.266451 139.248838 \r\nL 151.340832 142.967864 \r\nL 154.415212 141.957799 \r\nL 157.489592 144.856253 \r\nL 160.563972 144.138138 \r\nL 163.638352 148.246425 \r\nL 166.712732 148.563357 \r\nL 169.787113 150.874656 \r\nL 172.861493 154.493005 \r\nL 175.935873 154.61094 \r\nL 179.010253 158.37985 \r\nL 182.084633 160.110309 \r\nL 185.159013 160.745461 \r\nL 188.233394 163.49585 \r\nL 191.307774 166.323899 \r\nL 194.382154 168.588862 \r\nL 197.456534 169.899271 \r\nL 200.530914 170.831044 \r\nL 203.605294 173.62601 \r\nL 206.679675 176.355241 \r\nL 209.754055 177.560652 \r\nL 212.828435 179.216479 \r\nL 215.902815 181.440546 \r\nL 218.977195 182.82917 \r\nL 222.051575 185.09434 \r\nL 225.125956 185.668992 \r\nL 228.200336 188.081635 \r\nL 231.274716 189.512674 \r\nL 234.349096 190.622159 \r\nL 237.423476 191.902241 \r\nL 240.497856 193.797645 \r\nL 243.572237 194.875248 \r\nL 246.646617 195.828895 \r\nL 249.720997 197.016873 \r\nL 252.795377 198.691365 \r\nL 255.869757 199.573378 \r\nL 258.944137 200.444603 \r\nL 262.018518 201.424722 \r\nL 265.092898 202.059026 \r\nL 268.167278 203.628059 \r\nL 271.241658 204.169098 \r\nL 274.316038 204.769678 \r\nL 277.390418 205.498248 \r\nL 280.464799 206.072578 \r\nL 283.539179 206.698585 \r\nL 286.613559 207.202259 \r\nL 289.687939 207.701872 \r\nL 292.762319 208.448014 \r\nL 295.836699 208.890921 \r\nL 298.91108 209.524879 \r\nL 301.98546 209.84231 \r\nL 305.05984 210.386585 \r\nL 308.13422 210.303025 \r\nL 311.2086 210.951384 \r\nL 314.28298 211.187496 \r\nL 317.357361 211.592723 \r\nL 320.431741 211.796802 \r\nL 323.506121 212.137464 \r\nL 326.580501 212.296612 \r\nL 329.654881 212.772747 \r\nL 332.729261 212.854687 \r\nL 335.803642 213.000091 \r\nL 338.878022 213.3459 \r\nL 341.952402 213.492034 \r\nL 345.026782 213.700139 \r\nL 348.101162 213.843439 \r\nL 351.175542 213.817274 \r\nL 354.249923 214.191546 \r\nL 357.324303 214.241056 \r\nL 360.398683 214.619091 \r\nL 363.473063 214.662342 \r\nL 366.547443 214.756364 \r\n\" style=\"fill:none;stroke:#1f77b4;stroke-linecap:square;stroke-width:1.5;\"/>\r\n   </g>\r\n   <g id=\"patch_3\">\r\n    <path d=\"M 46.965625 224.64 \r\nL 46.965625 7.2 \r\n\" style=\"fill:none;stroke:#000000;stroke-linecap:square;stroke-linejoin:miter;stroke-width:0.8;\"/>\r\n   </g>\r\n   <g id=\"patch_4\">\r\n    <path d=\"M 381.765625 224.64 \r\nL 381.765625 7.2 \r\n\" style=\"fill:none;stroke:#000000;stroke-linecap:square;stroke-linejoin:miter;stroke-width:0.8;\"/>\r\n   </g>\r\n   <g id=\"patch_5\">\r\n    <path d=\"M 46.965625 224.64 \r\nL 381.765625 224.64 \r\n\" style=\"fill:none;stroke:#000000;stroke-linecap:square;stroke-linejoin:miter;stroke-width:0.8;\"/>\r\n   </g>\r\n   <g id=\"patch_6\">\r\n    <path d=\"M 46.965625 7.2 \r\nL 381.765625 7.2 \r\n\" style=\"fill:none;stroke:#000000;stroke-linecap:square;stroke-linejoin:miter;stroke-width:0.8;\"/>\r\n   </g>\r\n  </g>\r\n </g>\r\n <defs>\r\n  <clipPath id=\"p39029b0fe6\">\r\n   <rect height=\"217.44\" width=\"334.8\" x=\"46.965625\" y=\"7.2\"/>\r\n  </clipPath>\r\n </defs>\r\n</svg>\r\n",
      "image/png": "[encoded data removed]"
     },
     "metadata": {
      "needs_background": "light"
     }
    }
   ],
   "source": [
    "%matplotlib inline\n",
    "import sys\n",
    "sys.path.append('..')\n",
    "import matplotlib.pyplot as plt\n",
    "import numpy as np\n",
    "from common.optimizer import SGD\n",
    "from dataset import ptb\n",
    "from simple_rnnlm import SimpleRnnlm\n",
    "\n",
    "\n",
    "# 하이퍼파라미터 설정\n",
    "batch_size = 10\n",
    "wordvec_size = 100\n",
    "hidden_size = 100 # RNN의 은닉 상태 벡터의 원소 수\n",
    "time_size = 5     # Truncated BPTT가 한 번에 펼치는 시간 크기\n",
    "lr = 0.1\n",
    "max_epoch = 100\n",
    "\n",
    "# 학습 데이터 읽기(전체 중 1000개만)\n",
    "corpus, word_to_id, id_to_word = ptb.load_data('train')\n",
    "corpus_size = 1000\n",
    "corpus = corpus[:corpus_size]\n",
    "vocab_size = int(max(corpus) + 1)\n",
    "\n",
    "xs = corpus[:-1]  # 입력\n",
    "ts = corpus[1:]   # 출력(정답 레이블)\n",
    "data_size = len(xs)\n",
    "print('말뭉치 크기: %d, 어휘 수: %d' % (corpus_size, vocab_size))\n",
    "\n",
    "# 학습 시 사용하는 변수\n",
    "max_iters = data_size // (batch_size * time_size)\n",
    "time_idx = 0\n",
    "total_loss = 0\n",
    "loss_count = 0\n",
    "ppl_list = []\n",
    "\n",
    "# 모델 생성\n",
    "model = SimpleRnnlm(vocab_size, wordvec_size, hidden_size)\n",
    "optimizer = SGD(lr)\n",
    "\n",
    "# 미니배치의 각 샘플의 읽기 시작 위치를 계산\n",
    "jump = (corpus_size - 1) // batch_size\n",
    "offsets = [i * jump for i in range(batch_size)]\n",
    "\n",
    "for epoch in range(max_epoch):\n",
    "    for iter in range(max_iters):\n",
    "        # 미니배치 취득\n",
    "        batch_x = np.empty((batch_size, time_size), dtype='i')\n",
    "        batch_t = np.empty((batch_size, time_size), dtype='i')\n",
    "        for t in range(time_size):\n",
    "            for i, offset in enumerate(offsets):\n",
    "                batch_x[i, t] = xs[(offset + time_idx) % data_size]\n",
    "                batch_t[i, t] = ts[(offset + time_idx) % data_size]\n",
    "            time_idx += 1\n",
    "\n",
    "        # 기울기를 구하여 매개변수 갱신\n",
    "        loss = model.forward(batch_x, batch_t)\n",
    "        model.backward()\n",
    "        optimizer.update(model.params, model.grads)\n",
    "        total_loss += loss\n",
    "        loss_count += 1\n",
    "\n",
    "    # 에폭마다 퍼플렉서티 평가\n",
    "    ppl = np.exp(total_loss / loss_count)\n",
    "    print('| 에폭 %d | 퍼플렉서티 %.2f'\n",
    "          % (epoch+1, ppl))\n",
    "    ppl_list.append(float(ppl))\n",
    "    total_loss, loss_count = 0, 0\n",
    "\n",
    "# 그래프 그리기\n",
    "x = np.arange(len(ppl_list))\n",
    "plt.plot(x, ppl_list, label='train')\n",
    "plt.xlabel('epochs')\n",
    "plt.ylabel('perplexity')\n",
    "plt.show()"
   ]
  },
  {
   "cell_type": "code",
   "execution_count": 8,
   "metadata": {},
   "outputs": [
    {
     "output_type": "stream",
     "name": "stdout",
     "text": [
      "| 에폭 1 |  반복 1 / 19 | 시간 0[s] | 퍼플렉서티 417.37\n",
      "| 에폭 2 |  반복 1 / 19 | 시간 0[s] | 퍼플렉서티 408.88\n",
      "| 에폭 3 |  반복 1 / 19 | 시간 0[s] | 퍼플렉서티 318.30\n",
      "| 에폭 4 |  반복 1 / 19 | 시간 0[s] | 퍼플렉서티 234.83\n",
      "| 에폭 5 |  반복 1 / 19 | 시간 0[s] | 퍼플렉서티 217.61\n",
      "| 에폭 6 |  반복 1 / 19 | 시간 0[s] | 퍼플렉서티 213.35\n",
      "| 에폭 7 |  반복 1 / 19 | 시간 0[s] | 퍼플렉서티 203.23\n",
      "| 에폭 8 |  반복 1 / 19 | 시간 0[s] | 퍼플렉서티 202.32\n",
      "| 에폭 9 |  반복 1 / 19 | 시간 0[s] | 퍼플렉서티 197.34\n",
      "| 에폭 10 |  반복 1 / 19 | 시간 0[s] | 퍼플렉서티 191.89\n",
      "| 에폭 11 |  반복 1 / 19 | 시간 0[s] | 퍼플렉서티 192.77\n",
      "| 에폭 12 |  반복 1 / 19 | 시간 0[s] | 퍼플렉서티 189.69\n",
      "| 에폭 13 |  반복 1 / 19 | 시간 0[s] | 퍼플렉서티 192.68\n",
      "| 에폭 14 |  반복 1 / 19 | 시간 0[s] | 퍼플렉서티 187.48\n",
      "| 에폭 15 |  반복 1 / 19 | 시간 0[s] | 퍼플렉서티 185.96\n",
      "| 에폭 16 |  반복 1 / 19 | 시간 0[s] | 퍼플렉서티 189.30\n",
      "| 에폭 17 |  반복 1 / 19 | 시간 0[s] | 퍼플렉서티 187.74\n",
      "| 에폭 18 |  반복 1 / 19 | 시간 0[s] | 퍼플렉서티 183.78\n",
      "| 에폭 19 |  반복 1 / 19 | 시간 0[s] | 퍼플렉서티 180.70\n",
      "| 에폭 20 |  반복 1 / 19 | 시간 0[s] | 퍼플렉서티 179.81\n",
      "| 에폭 21 |  반복 1 / 19 | 시간 0[s] | 퍼플렉서티 177.52\n",
      "| 에폭 22 |  반복 1 / 19 | 시간 0[s] | 퍼플렉서티 178.15\n",
      "| 에폭 23 |  반복 1 / 19 | 시간 1[s] | 퍼플렉서티 177.57\n",
      "| 에폭 24 |  반복 1 / 19 | 시간 1[s] | 퍼플렉서티 177.62\n",
      "| 에폭 25 |  반복 1 / 19 | 시간 1[s] | 퍼플렉서티 169.25\n",
      "| 에폭 26 |  반복 1 / 19 | 시간 1[s] | 퍼플렉서티 171.19\n",
      "| 에폭 27 |  반복 1 / 19 | 시간 1[s] | 퍼플렉서티 168.60\n",
      "| 에폭 28 |  반복 1 / 19 | 시간 1[s] | 퍼플렉서티 171.39\n",
      "| 에폭 29 |  반복 1 / 19 | 시간 1[s] | 퍼플렉서티 162.89\n",
      "| 에폭 30 |  반복 1 / 19 | 시간 1[s] | 퍼플렉서티 159.27\n",
      "| 에폭 31 |  반복 1 / 19 | 시간 1[s] | 퍼플렉서티 156.39\n",
      "| 에폭 32 |  반복 1 / 19 | 시간 1[s] | 퍼플렉서티 152.03\n",
      "| 에폭 33 |  반복 1 / 19 | 시간 1[s] | 퍼플렉서티 151.53\n",
      "| 에폭 34 |  반복 1 / 19 | 시간 1[s] | 퍼플렉서티 149.00\n",
      "| 에폭 35 |  반복 1 / 19 | 시간 1[s] | 퍼플렉서티 143.28\n",
      "| 에폭 36 |  반복 1 / 19 | 시간 1[s] | 퍼플렉서티 142.33\n",
      "| 에폭 37 |  반복 1 / 19 | 시간 1[s] | 퍼플렉서티 139.48\n",
      "| 에폭 38 |  반복 1 / 19 | 시간 1[s] | 퍼플렉서티 130.24\n",
      "| 에폭 39 |  반복 1 / 19 | 시간 1[s] | 퍼플렉서티 127.21\n",
      "| 에폭 40 |  반복 1 / 19 | 시간 1[s] | 퍼플렉서티 121.48\n",
      "| 에폭 41 |  반복 1 / 19 | 시간 1[s] | 퍼플렉서티 115.74\n",
      "| 에폭 42 |  반복 1 / 19 | 시간 1[s] | 퍼플렉서티 114.64\n",
      "| 에폭 43 |  반복 1 / 19 | 시간 1[s] | 퍼플렉서티 109.30\n",
      "| 에폭 44 |  반복 1 / 19 | 시간 1[s] | 퍼플렉서티 106.12\n",
      "| 에폭 45 |  반복 1 / 19 | 시간 2[s] | 퍼플렉서티 97.13\n",
      "| 에폭 46 |  반복 1 / 19 | 시간 2[s] | 퍼플렉서티 94.71\n",
      "| 에폭 47 |  반복 1 / 19 | 시간 2[s] | 퍼플렉서티 90.84\n",
      "| 에폭 48 |  반복 1 / 19 | 시간 2[s] | 퍼플렉서티 87.00\n",
      "| 에폭 49 |  반복 1 / 19 | 시간 2[s] | 퍼플렉서티 82.98\n",
      "| 에폭 50 |  반복 1 / 19 | 시간 2[s] | 퍼플렉서티 77.29\n",
      "| 에폭 51 |  반복 1 / 19 | 시간 2[s] | 퍼플렉서티 73.55\n",
      "| 에폭 52 |  반복 1 / 19 | 시간 2[s] | 퍼플렉서티 69.42\n",
      "| 에폭 53 |  반복 1 / 19 | 시간 2[s] | 퍼플렉서티 67.29\n",
      "| 에폭 54 |  반복 1 / 19 | 시간 2[s] | 퍼플렉서티 63.51\n",
      "| 에폭 55 |  반복 1 / 19 | 시간 2[s] | 퍼플렉서티 58.77\n",
      "| 에폭 56 |  반복 1 / 19 | 시간 2[s] | 퍼플렉서티 56.74\n",
      "| 에폭 57 |  반복 1 / 19 | 시간 2[s] | 퍼플렉서티 55.00\n",
      "| 에폭 58 |  반복 1 / 19 | 시간 2[s] | 퍼플렉서티 49.72\n",
      "| 에폭 59 |  반복 1 / 19 | 시간 2[s] | 퍼플렉서티 48.51\n",
      "| 에폭 60 |  반복 1 / 19 | 시간 2[s] | 퍼플렉서티 44.12\n",
      "| 에폭 61 |  반복 1 / 19 | 시간 2[s] | 퍼플렉서티 40.25\n",
      "| 에폭 62 |  반복 1 / 19 | 시간 2[s] | 퍼플렉서티 39.35\n",
      "| 에폭 63 |  반복 1 / 19 | 시간 2[s] | 퍼플렉서티 38.59\n",
      "| 에폭 64 |  반복 1 / 19 | 시간 2[s] | 퍼플렉서티 35.58\n",
      "| 에폭 65 |  반복 1 / 19 | 시간 2[s] | 퍼플렉서티 32.82\n",
      "| 에폭 66 |  반복 1 / 19 | 시간 2[s] | 퍼플렉서티 30.74\n",
      "| 에폭 67 |  반복 1 / 19 | 시간 3[s] | 퍼플렉서티 29.61\n",
      "| 에폭 68 |  반복 1 / 19 | 시간 3[s] | 퍼플렉서티 28.17\n",
      "| 에폭 69 |  반복 1 / 19 | 시간 3[s] | 퍼플렉서티 26.42\n",
      "| 에폭 70 |  반복 1 / 19 | 시간 3[s] | 퍼플렉서티 24.82\n",
      "| 에폭 71 |  반복 1 / 19 | 시간 3[s] | 퍼플렉서티 23.71\n",
      "| 에폭 72 |  반복 1 / 19 | 시간 3[s] | 퍼플렉서티 21.73\n",
      "| 에폭 73 |  반복 1 / 19 | 시간 3[s] | 퍼플렉서티 20.80\n",
      "| 에폭 74 |  반복 1 / 19 | 시간 3[s] | 퍼플렉서티 20.04\n",
      "| 에폭 75 |  반복 1 / 19 | 시간 3[s] | 퍼플렉서티 18.95\n",
      "| 에폭 76 |  반복 1 / 19 | 시간 3[s] | 퍼플렉서티 18.11\n",
      "| 에폭 77 |  반복 1 / 19 | 시간 3[s] | 퍼플렉서티 16.40\n",
      "| 에폭 78 |  반복 1 / 19 | 시간 3[s] | 퍼플렉서티 15.78\n",
      "| 에폭 79 |  반복 1 / 19 | 시간 3[s] | 퍼플렉서티 14.78\n",
      "| 에폭 80 |  반복 1 / 19 | 시간 3[s] | 퍼플렉서티 14.12\n",
      "| 에폭 81 |  반복 1 / 19 | 시간 3[s] | 퍼플렉서티 13.25\n",
      "| 에폭 82 |  반복 1 / 19 | 시간 3[s] | 퍼플렉서티 12.89\n",
      "| 에폭 83 |  반복 1 / 19 | 시간 3[s] | 퍼플렉서티 12.60\n",
      "| 에폭 84 |  반복 1 / 19 | 시간 3[s] | 퍼플렉서티 11.45\n",
      "| 에폭 85 |  반복 1 / 19 | 시간 3[s] | 퍼플렉서티 10.47\n",
      "| 에폭 86 |  반복 1 / 19 | 시간 3[s] | 퍼플렉서티 10.42\n",
      "| 에폭 87 |  반복 1 / 19 | 시간 3[s] | 퍼플렉서티 10.06\n",
      "| 에폭 88 |  반복 1 / 19 | 시간 4[s] | 퍼플렉서티 9.20\n",
      "| 에폭 89 |  반복 1 / 19 | 시간 4[s] | 퍼플렉서티 9.28\n",
      "| 에폭 90 |  반복 1 / 19 | 시간 4[s] | 퍼플렉서티 8.36\n",
      "| 에폭 91 |  반복 1 / 19 | 시간 4[s] | 퍼플렉서티 7.71\n",
      "| 에폭 92 |  반복 1 / 19 | 시간 4[s] | 퍼플렉서티 7.73\n",
      "| 에폭 93 |  반복 1 / 19 | 시간 4[s] | 퍼플렉서티 7.81\n",
      "| 에폭 94 |  반복 1 / 19 | 시간 4[s] | 퍼플렉서티 7.32\n",
      "| 에폭 95 |  반복 1 / 19 | 시간 4[s] | 퍼플렉서티 6.62\n",
      "| 에폭 96 |  반복 1 / 19 | 시간 4[s] | 퍼플렉서티 6.51\n",
      "| 에폭 97 |  반복 1 / 19 | 시간 4[s] | 퍼플렉서티 6.19\n",
      "| 에폭 98 |  반복 1 / 19 | 시간 4[s] | 퍼플렉서티 5.89\n",
      "| 에폭 99 |  반복 1 / 19 | 시간 4[s] | 퍼플렉서티 5.33\n",
      "| 에폭 100 |  반복 1 / 19 | 시간 4[s] | 퍼플렉서티 5.47\n",
      "C:\\Users\\honey\\anaconda3\\envs\\isd\\lib\\site-packages\\matplotlib\\textpath.py:65: RuntimeWarning: Glyph 48152 missing from current font.\n",
      "  font.set_text(s, 0.0, flags=LOAD_NO_HINTING)\n",
      "C:\\Users\\honey\\anaconda3\\envs\\isd\\lib\\site-packages\\matplotlib\\textpath.py:65: RuntimeWarning: Glyph 48373 missing from current font.\n",
      "  font.set_text(s, 0.0, flags=LOAD_NO_HINTING)\n",
      "C:\\Users\\honey\\anaconda3\\envs\\isd\\lib\\site-packages\\matplotlib\\textpath.py:65: RuntimeWarning: Glyph 54140 missing from current font.\n",
      "  font.set_text(s, 0.0, flags=LOAD_NO_HINTING)\n",
      "C:\\Users\\honey\\anaconda3\\envs\\isd\\lib\\site-packages\\matplotlib\\textpath.py:65: RuntimeWarning: Glyph 54540 missing from current font.\n",
      "  font.set_text(s, 0.0, flags=LOAD_NO_HINTING)\n",
      "C:\\Users\\honey\\anaconda3\\envs\\isd\\lib\\site-packages\\matplotlib\\textpath.py:65: RuntimeWarning: Glyph 47113 missing from current font.\n",
      "  font.set_text(s, 0.0, flags=LOAD_NO_HINTING)\n",
      "C:\\Users\\honey\\anaconda3\\envs\\isd\\lib\\site-packages\\matplotlib\\textpath.py:65: RuntimeWarning: Glyph 49436 missing from current font.\n",
      "  font.set_text(s, 0.0, flags=LOAD_NO_HINTING)\n",
      "C:\\Users\\honey\\anaconda3\\envs\\isd\\lib\\site-packages\\matplotlib\\textpath.py:65: RuntimeWarning: Glyph 54000 missing from current font.\n",
      "  font.set_text(s, 0.0, flags=LOAD_NO_HINTING)\n",
      "C:\\Users\\honey\\anaconda3\\envs\\isd\\lib\\site-packages\\matplotlib\\backends\\backend_agg.py:240: RuntimeWarning: Glyph 48152 missing from current font.\n",
      "  font.set_text(s, 0.0, flags=flags)\n",
      "C:\\Users\\honey\\anaconda3\\envs\\isd\\lib\\site-packages\\matplotlib\\backends\\backend_agg.py:240: RuntimeWarning: Glyph 48373 missing from current font.\n",
      "  font.set_text(s, 0.0, flags=flags)\n",
      "C:\\Users\\honey\\anaconda3\\envs\\isd\\lib\\site-packages\\matplotlib\\backends\\backend_agg.py:240: RuntimeWarning: Glyph 54140 missing from current font.\n",
      "  font.set_text(s, 0.0, flags=flags)\n",
      "C:\\Users\\honey\\anaconda3\\envs\\isd\\lib\\site-packages\\matplotlib\\backends\\backend_agg.py:240: RuntimeWarning: Glyph 54540 missing from current font.\n",
      "  font.set_text(s, 0.0, flags=flags)\n",
      "C:\\Users\\honey\\anaconda3\\envs\\isd\\lib\\site-packages\\matplotlib\\backends\\backend_agg.py:240: RuntimeWarning: Glyph 47113 missing from current font.\n",
      "  font.set_text(s, 0.0, flags=flags)\n",
      "C:\\Users\\honey\\anaconda3\\envs\\isd\\lib\\site-packages\\matplotlib\\backends\\backend_agg.py:240: RuntimeWarning: Glyph 49436 missing from current font.\n",
      "  font.set_text(s, 0.0, flags=flags)\n",
      "C:\\Users\\honey\\anaconda3\\envs\\isd\\lib\\site-packages\\matplotlib\\backends\\backend_agg.py:240: RuntimeWarning: Glyph 54000 missing from current font.\n",
      "  font.set_text(s, 0.0, flags=flags)\n",
      "C:\\Users\\honey\\anaconda3\\envs\\isd\\lib\\site-packages\\matplotlib\\backends\\backend_agg.py:203: RuntimeWarning: Glyph 48152 missing from current font.\n",
      "  font.set_text(s, 0, flags=flags)\n",
      "C:\\Users\\honey\\anaconda3\\envs\\isd\\lib\\site-packages\\matplotlib\\backends\\backend_agg.py:203: RuntimeWarning: Glyph 48373 missing from current font.\n",
      "  font.set_text(s, 0, flags=flags)\n",
      "C:\\Users\\honey\\anaconda3\\envs\\isd\\lib\\site-packages\\matplotlib\\backends\\backend_agg.py:203: RuntimeWarning: Glyph 54140 missing from current font.\n",
      "  font.set_text(s, 0, flags=flags)\n",
      "C:\\Users\\honey\\anaconda3\\envs\\isd\\lib\\site-packages\\matplotlib\\backends\\backend_agg.py:203: RuntimeWarning: Glyph 54540 missing from current font.\n",
      "  font.set_text(s, 0, flags=flags)\n",
      "C:\\Users\\honey\\anaconda3\\envs\\isd\\lib\\site-packages\\matplotlib\\backends\\backend_agg.py:203: RuntimeWarning: Glyph 47113 missing from current font.\n",
      "  font.set_text(s, 0, flags=flags)\n",
      "C:\\Users\\honey\\anaconda3\\envs\\isd\\lib\\site-packages\\matplotlib\\backends\\backend_agg.py:203: RuntimeWarning: Glyph 49436 missing from current font.\n",
      "  font.set_text(s, 0, flags=flags)\n",
      "C:\\Users\\honey\\anaconda3\\envs\\isd\\lib\\site-packages\\matplotlib\\backends\\backend_agg.py:203: RuntimeWarning: Glyph 54000 missing from current font.\n",
      "  font.set_text(s, 0, flags=flags)\n"
     ]
    },
    {
     "output_type": "display_data",
     "data": {
      "text/plain": "<Figure size 432x288 with 1 Axes>",
      "image/svg+xml": "<?xml version=\"1.0\" encoding=\"utf-8\" standalone=\"no\"?>\r\n<!DOCTYPE svg PUBLIC \"-//W3C//DTD SVG 1.1//EN\"\r\n  \"http://www.w3.org/Graphics/SVG/1.1/DTD/svg11.dtd\">\r\n<svg height=\"262.19625pt\" version=\"1.1\" viewBox=\"0 0 388.965625 262.19625\" width=\"388.965625pt\" xmlns=\"http://www.w3.org/2000/svg\" xmlns:xlink=\"http://www.w3.org/1999/xlink\">\r\n <metadata>\r\n  <rdf:RDF xmlns:cc=\"http://creativecommons.org/ns#\" xmlns:dc=\"http://purl.org/dc/elements/1.1/\" xmlns:rdf=\"http://www.w3.org/1999/02/22-rdf-syntax-ns#\">\r\n   <cc:Work>\r\n    <dc:type rdf:resource=\"http://purl.org/dc/dcmitype/StillImage\"/>\r\n    <dc:date>2021-06-19T00:38:39.375193</dc:date>\r\n    <dc:format>image/svg+xml</dc:format>\r\n    <dc:creator>\r\n     <cc:Agent>\r\n      <dc:title>Matplotlib v3.4.2, https://matplotlib.org/</dc:title>\r\n     </cc:Agent>\r\n    </dc:creator>\r\n   </cc:Work>\r\n  </rdf:RDF>\r\n </metadata>\r\n <defs>\r\n  <style type=\"text/css\">*{stroke-linecap:butt;stroke-linejoin:round;}</style>\r\n </defs>\r\n <g id=\"figure_1\">\r\n  <g id=\"patch_1\">\r\n   <path d=\"M 0 262.19625 \r\nL 388.965625 262.19625 \r\nL 388.965625 0 \r\nL 0 0 \r\nz\r\n\" style=\"fill:none;\"/>\r\n  </g>\r\n  <g id=\"axes_1\">\r\n   <g id=\"patch_2\">\r\n    <path d=\"M 46.965625 224.64 \r\nL 381.765625 224.64 \r\nL 381.765625 7.2 \r\nL 46.965625 7.2 \r\nz\r\n\" style=\"fill:#ffffff;\"/>\r\n   </g>\r\n   <g id=\"matplotlib.axis_1\">\r\n    <g id=\"xtick_1\">\r\n     <g id=\"line2d_1\">\r\n      <defs>\r\n       <path d=\"M 0 0 \r\nL 0 3.5 \r\n\" id=\"m259d3eb82c\" style=\"stroke:#000000;stroke-width:0.8;\"/>\r\n      </defs>\r\n      <g>\r\n       <use style=\"stroke:#000000;stroke-width:0.8;\" x=\"62.183807\" xlink:href=\"#m259d3eb82c\" y=\"224.64\"/>\r\n      </g>\r\n     </g>\r\n     <g id=\"text_1\">\r\n      <!-- 0 -->\r\n      <g transform=\"translate(59.002557 239.238438)scale(0.1 -0.1)\">\r\n       <defs>\r\n        <path d=\"M 2034 4250 \r\nQ 1547 4250 1301 3770 \r\nQ 1056 3291 1056 2328 \r\nQ 1056 1369 1301 889 \r\nQ 1547 409 2034 409 \r\nQ 2525 409 2770 889 \r\nQ 3016 1369 3016 2328 \r\nQ 3016 3291 2770 3770 \r\nQ 2525 4250 2034 4250 \r\nz\r\nM 2034 4750 \r\nQ 2819 4750 3233 4129 \r\nQ 3647 3509 3647 2328 \r\nQ 3647 1150 3233 529 \r\nQ 2819 -91 2034 -91 \r\nQ 1250 -91 836 529 \r\nQ 422 1150 422 2328 \r\nQ 422 3509 836 4129 \r\nQ 1250 4750 2034 4750 \r\nz\r\n\" id=\"DejaVuSans-30\" transform=\"scale(0.015625)\"/>\r\n       </defs>\r\n       <use xlink:href=\"#DejaVuSans-30\"/>\r\n      </g>\r\n     </g>\r\n    </g>\r\n    <g id=\"xtick_2\">\r\n     <g id=\"line2d_2\">\r\n      <g>\r\n       <use style=\"stroke:#000000;stroke-width:0.8;\" x=\"123.67141\" xlink:href=\"#m259d3eb82c\" y=\"224.64\"/>\r\n      </g>\r\n     </g>\r\n     <g id=\"text_2\">\r\n      <!-- 20 -->\r\n      <g transform=\"translate(117.30891 239.238438)scale(0.1 -0.1)\">\r\n       <defs>\r\n        <path d=\"M 1228 531 \r\nL 3431 531 \r\nL 3431 0 \r\nL 469 0 \r\nL 469 531 \r\nQ 828 903 1448 1529 \r\nQ 2069 2156 2228 2338 \r\nQ 2531 2678 2651 2914 \r\nQ 2772 3150 2772 3378 \r\nQ 2772 3750 2511 3984 \r\nQ 2250 4219 1831 4219 \r\nQ 1534 4219 1204 4116 \r\nQ 875 4013 500 3803 \r\nL 500 4441 \r\nQ 881 4594 1212 4672 \r\nQ 1544 4750 1819 4750 \r\nQ 2544 4750 2975 4387 \r\nQ 3406 4025 3406 3419 \r\nQ 3406 3131 3298 2873 \r\nQ 3191 2616 2906 2266 \r\nQ 2828 2175 2409 1742 \r\nQ 1991 1309 1228 531 \r\nz\r\n\" id=\"DejaVuSans-32\" transform=\"scale(0.015625)\"/>\r\n       </defs>\r\n       <use xlink:href=\"#DejaVuSans-32\"/>\r\n       <use x=\"63.623047\" xlink:href=\"#DejaVuSans-30\"/>\r\n      </g>\r\n     </g>\r\n    </g>\r\n    <g id=\"xtick_3\">\r\n     <g id=\"line2d_3\">\r\n      <g>\r\n       <use style=\"stroke:#000000;stroke-width:0.8;\" x=\"185.159013\" xlink:href=\"#m259d3eb82c\" y=\"224.64\"/>\r\n      </g>\r\n     </g>\r\n     <g id=\"text_3\">\r\n      <!-- 40 -->\r\n      <g transform=\"translate(178.796513 239.238438)scale(0.1 -0.1)\">\r\n       <defs>\r\n        <path d=\"M 2419 4116 \r\nL 825 1625 \r\nL 2419 1625 \r\nL 2419 4116 \r\nz\r\nM 2253 4666 \r\nL 3047 4666 \r\nL 3047 1625 \r\nL 3713 1625 \r\nL 3713 1100 \r\nL 3047 1100 \r\nL 3047 0 \r\nL 2419 0 \r\nL 2419 1100 \r\nL 313 1100 \r\nL 313 1709 \r\nL 2253 4666 \r\nz\r\n\" id=\"DejaVuSans-34\" transform=\"scale(0.015625)\"/>\r\n       </defs>\r\n       <use xlink:href=\"#DejaVuSans-34\"/>\r\n       <use x=\"63.623047\" xlink:href=\"#DejaVuSans-30\"/>\r\n      </g>\r\n     </g>\r\n    </g>\r\n    <g id=\"xtick_4\">\r\n     <g id=\"line2d_4\">\r\n      <g>\r\n       <use style=\"stroke:#000000;stroke-width:0.8;\" x=\"246.646617\" xlink:href=\"#m259d3eb82c\" y=\"224.64\"/>\r\n      </g>\r\n     </g>\r\n     <g id=\"text_4\">\r\n      <!-- 60 -->\r\n      <g transform=\"translate(240.284117 239.238438)scale(0.1 -0.1)\">\r\n       <defs>\r\n        <path d=\"M 2113 2584 \r\nQ 1688 2584 1439 2293 \r\nQ 1191 2003 1191 1497 \r\nQ 1191 994 1439 701 \r\nQ 1688 409 2113 409 \r\nQ 2538 409 2786 701 \r\nQ 3034 994 3034 1497 \r\nQ 3034 2003 2786 2293 \r\nQ 2538 2584 2113 2584 \r\nz\r\nM 3366 4563 \r\nL 3366 3988 \r\nQ 3128 4100 2886 4159 \r\nQ 2644 4219 2406 4219 \r\nQ 1781 4219 1451 3797 \r\nQ 1122 3375 1075 2522 \r\nQ 1259 2794 1537 2939 \r\nQ 1816 3084 2150 3084 \r\nQ 2853 3084 3261 2657 \r\nQ 3669 2231 3669 1497 \r\nQ 3669 778 3244 343 \r\nQ 2819 -91 2113 -91 \r\nQ 1303 -91 875 529 \r\nQ 447 1150 447 2328 \r\nQ 447 3434 972 4092 \r\nQ 1497 4750 2381 4750 \r\nQ 2619 4750 2861 4703 \r\nQ 3103 4656 3366 4563 \r\nz\r\n\" id=\"DejaVuSans-36\" transform=\"scale(0.015625)\"/>\r\n       </defs>\r\n       <use xlink:href=\"#DejaVuSans-36\"/>\r\n       <use x=\"63.623047\" xlink:href=\"#DejaVuSans-30\"/>\r\n      </g>\r\n     </g>\r\n    </g>\r\n    <g id=\"xtick_5\">\r\n     <g id=\"line2d_5\">\r\n      <g>\r\n       <use style=\"stroke:#000000;stroke-width:0.8;\" x=\"308.13422\" xlink:href=\"#m259d3eb82c\" y=\"224.64\"/>\r\n      </g>\r\n     </g>\r\n     <g id=\"text_5\">\r\n      <!-- 80 -->\r\n      <g transform=\"translate(301.77172 239.238438)scale(0.1 -0.1)\">\r\n       <defs>\r\n        <path d=\"M 2034 2216 \r\nQ 1584 2216 1326 1975 \r\nQ 1069 1734 1069 1313 \r\nQ 1069 891 1326 650 \r\nQ 1584 409 2034 409 \r\nQ 2484 409 2743 651 \r\nQ 3003 894 3003 1313 \r\nQ 3003 1734 2745 1975 \r\nQ 2488 2216 2034 2216 \r\nz\r\nM 1403 2484 \r\nQ 997 2584 770 2862 \r\nQ 544 3141 544 3541 \r\nQ 544 4100 942 4425 \r\nQ 1341 4750 2034 4750 \r\nQ 2731 4750 3128 4425 \r\nQ 3525 4100 3525 3541 \r\nQ 3525 3141 3298 2862 \r\nQ 3072 2584 2669 2484 \r\nQ 3125 2378 3379 2068 \r\nQ 3634 1759 3634 1313 \r\nQ 3634 634 3220 271 \r\nQ 2806 -91 2034 -91 \r\nQ 1263 -91 848 271 \r\nQ 434 634 434 1313 \r\nQ 434 1759 690 2068 \r\nQ 947 2378 1403 2484 \r\nz\r\nM 1172 3481 \r\nQ 1172 3119 1398 2916 \r\nQ 1625 2713 2034 2713 \r\nQ 2441 2713 2670 2916 \r\nQ 2900 3119 2900 3481 \r\nQ 2900 3844 2670 4047 \r\nQ 2441 4250 2034 4250 \r\nQ 1625 4250 1398 4047 \r\nQ 1172 3844 1172 3481 \r\nz\r\n\" id=\"DejaVuSans-38\" transform=\"scale(0.015625)\"/>\r\n       </defs>\r\n       <use xlink:href=\"#DejaVuSans-38\"/>\r\n       <use x=\"63.623047\" xlink:href=\"#DejaVuSans-30\"/>\r\n      </g>\r\n     </g>\r\n    </g>\r\n    <g id=\"xtick_6\">\r\n     <g id=\"line2d_6\">\r\n      <g>\r\n       <use style=\"stroke:#000000;stroke-width:0.8;\" x=\"369.621823\" xlink:href=\"#m259d3eb82c\" y=\"224.64\"/>\r\n      </g>\r\n     </g>\r\n     <g id=\"text_6\">\r\n      <!-- 100 -->\r\n      <g transform=\"translate(360.078073 239.238438)scale(0.1 -0.1)\">\r\n       <defs>\r\n        <path d=\"M 794 531 \r\nL 1825 531 \r\nL 1825 4091 \r\nL 703 3866 \r\nL 703 4441 \r\nL 1819 4666 \r\nL 2450 4666 \r\nL 2450 531 \r\nL 3481 531 \r\nL 3481 0 \r\nL 794 0 \r\nL 794 531 \r\nz\r\n\" id=\"DejaVuSans-31\" transform=\"scale(0.015625)\"/>\r\n       </defs>\r\n       <use xlink:href=\"#DejaVuSans-31\"/>\r\n       <use x=\"63.623047\" xlink:href=\"#DejaVuSans-30\"/>\r\n       <use x=\"127.246094\" xlink:href=\"#DejaVuSans-30\"/>\r\n      </g>\r\n     </g>\r\n    </g>\r\n    <g id=\"text_7\">\r\n     <!-- 반복 (x20) -->\r\n     <g transform=\"translate(193.551563 252.916563)scale(0.1 -0.1)\">\r\n      <defs>\r\n       <path d=\"M 319 -1131 \r\nL 319 4513 \r\nL 3519 4513 \r\nL 3519 -1131 \r\nL 319 -1131 \r\nz\r\nM 678 -775 \r\nL 3163 -775 \r\nL 3163 4153 \r\nL 678 4153 \r\nL 678 -775 \r\nz\r\n\" id=\"DejaVuSans-bc18\" transform=\"scale(0.015625)\"/>\r\n       <path d=\"M 319 -1131 \r\nL 319 4513 \r\nL 3519 4513 \r\nL 3519 -1131 \r\nL 319 -1131 \r\nz\r\nM 678 -775 \r\nL 3163 -775 \r\nL 3163 4153 \r\nL 678 4153 \r\nL 678 -775 \r\nz\r\n\" id=\"DejaVuSans-bcf5\" transform=\"scale(0.015625)\"/>\r\n       <path id=\"DejaVuSans-20\" transform=\"scale(0.015625)\"/>\r\n       <path d=\"M 1984 4856 \r\nQ 1566 4138 1362 3434 \r\nQ 1159 2731 1159 2009 \r\nQ 1159 1288 1364 580 \r\nQ 1569 -128 1984 -844 \r\nL 1484 -844 \r\nQ 1016 -109 783 600 \r\nQ 550 1309 550 2009 \r\nQ 550 2706 781 3412 \r\nQ 1013 4119 1484 4856 \r\nL 1984 4856 \r\nz\r\n\" id=\"DejaVuSans-28\" transform=\"scale(0.015625)\"/>\r\n       <path d=\"M 3513 3500 \r\nL 2247 1797 \r\nL 3578 0 \r\nL 2900 0 \r\nL 1881 1375 \r\nL 863 0 \r\nL 184 0 \r\nL 1544 1831 \r\nL 300 3500 \r\nL 978 3500 \r\nL 1906 2253 \r\nL 2834 3500 \r\nL 3513 3500 \r\nz\r\n\" id=\"DejaVuSans-78\" transform=\"scale(0.015625)\"/>\r\n       <path d=\"M 513 4856 \r\nL 1013 4856 \r\nQ 1481 4119 1714 3412 \r\nQ 1947 2706 1947 2009 \r\nQ 1947 1309 1714 600 \r\nQ 1481 -109 1013 -844 \r\nL 513 -844 \r\nQ 928 -128 1133 580 \r\nQ 1338 1288 1338 2009 \r\nQ 1338 2731 1133 3434 \r\nQ 928 4138 513 4856 \r\nz\r\n\" id=\"DejaVuSans-29\" transform=\"scale(0.015625)\"/>\r\n      </defs>\r\n      <use xlink:href=\"#DejaVuSans-bc18\"/>\r\n      <use x=\"60.009766\" xlink:href=\"#DejaVuSans-bcf5\"/>\r\n      <use x=\"120.019531\" xlink:href=\"#DejaVuSans-20\"/>\r\n      <use x=\"151.806641\" xlink:href=\"#DejaVuSans-28\"/>\r\n      <use x=\"190.820312\" xlink:href=\"#DejaVuSans-78\"/>\r\n      <use x=\"250\" xlink:href=\"#DejaVuSans-32\"/>\r\n      <use x=\"313.623047\" xlink:href=\"#DejaVuSans-30\"/>\r\n      <use x=\"377.246094\" xlink:href=\"#DejaVuSans-29\"/>\r\n     </g>\r\n    </g>\r\n   </g>\r\n   <g id=\"matplotlib.axis_2\">\r\n    <g id=\"ytick_1\">\r\n     <g id=\"line2d_7\">\r\n      <defs>\r\n       <path d=\"M 0 0 \r\nL -3.5 0 \r\n\" id=\"mfdfec8f4e8\" style=\"stroke:#000000;stroke-width:0.8;\"/>\r\n      </defs>\r\n      <g>\r\n       <use style=\"stroke:#000000;stroke-width:0.8;\" x=\"46.965625\" xlink:href=\"#mfdfec8f4e8\" y=\"217.312346\"/>\r\n      </g>\r\n     </g>\r\n     <g id=\"text_8\">\r\n      <!-- 0 -->\r\n      <g transform=\"translate(33.603125 221.111565)scale(0.1 -0.1)\">\r\n       <use xlink:href=\"#DejaVuSans-30\"/>\r\n      </g>\r\n     </g>\r\n    </g>\r\n    <g id=\"ytick_2\">\r\n     <g id=\"line2d_8\">\r\n      <g>\r\n       <use style=\"stroke:#000000;stroke-width:0.8;\" x=\"46.965625\" xlink:href=\"#mfdfec8f4e8\" y=\"169.338712\"/>\r\n      </g>\r\n     </g>\r\n     <g id=\"text_9\">\r\n      <!-- 100 -->\r\n      <g transform=\"translate(20.878125 173.137931)scale(0.1 -0.1)\">\r\n       <use xlink:href=\"#DejaVuSans-31\"/>\r\n       <use x=\"63.623047\" xlink:href=\"#DejaVuSans-30\"/>\r\n       <use x=\"127.246094\" xlink:href=\"#DejaVuSans-30\"/>\r\n      </g>\r\n     </g>\r\n    </g>\r\n    <g id=\"ytick_3\">\r\n     <g id=\"line2d_9\">\r\n      <g>\r\n       <use style=\"stroke:#000000;stroke-width:0.8;\" x=\"46.965625\" xlink:href=\"#mfdfec8f4e8\" y=\"121.365078\"/>\r\n      </g>\r\n     </g>\r\n     <g id=\"text_10\">\r\n      <!-- 200 -->\r\n      <g transform=\"translate(20.878125 125.164297)scale(0.1 -0.1)\">\r\n       <use xlink:href=\"#DejaVuSans-32\"/>\r\n       <use x=\"63.623047\" xlink:href=\"#DejaVuSans-30\"/>\r\n       <use x=\"127.246094\" xlink:href=\"#DejaVuSans-30\"/>\r\n      </g>\r\n     </g>\r\n    </g>\r\n    <g id=\"ytick_4\">\r\n     <g id=\"line2d_10\">\r\n      <g>\r\n       <use style=\"stroke:#000000;stroke-width:0.8;\" x=\"46.965625\" xlink:href=\"#mfdfec8f4e8\" y=\"73.391445\"/>\r\n      </g>\r\n     </g>\r\n     <g id=\"text_11\">\r\n      <!-- 300 -->\r\n      <g transform=\"translate(20.878125 77.190663)scale(0.1 -0.1)\">\r\n       <defs>\r\n        <path d=\"M 2597 2516 \r\nQ 3050 2419 3304 2112 \r\nQ 3559 1806 3559 1356 \r\nQ 3559 666 3084 287 \r\nQ 2609 -91 1734 -91 \r\nQ 1441 -91 1130 -33 \r\nQ 819 25 488 141 \r\nL 488 750 \r\nQ 750 597 1062 519 \r\nQ 1375 441 1716 441 \r\nQ 2309 441 2620 675 \r\nQ 2931 909 2931 1356 \r\nQ 2931 1769 2642 2001 \r\nQ 2353 2234 1838 2234 \r\nL 1294 2234 \r\nL 1294 2753 \r\nL 1863 2753 \r\nQ 2328 2753 2575 2939 \r\nQ 2822 3125 2822 3475 \r\nQ 2822 3834 2567 4026 \r\nQ 2313 4219 1838 4219 \r\nQ 1578 4219 1281 4162 \r\nQ 984 4106 628 3988 \r\nL 628 4550 \r\nQ 988 4650 1302 4700 \r\nQ 1616 4750 1894 4750 \r\nQ 2613 4750 3031 4423 \r\nQ 3450 4097 3450 3541 \r\nQ 3450 3153 3228 2886 \r\nQ 3006 2619 2597 2516 \r\nz\r\n\" id=\"DejaVuSans-33\" transform=\"scale(0.015625)\"/>\r\n       </defs>\r\n       <use xlink:href=\"#DejaVuSans-33\"/>\r\n       <use x=\"63.623047\" xlink:href=\"#DejaVuSans-30\"/>\r\n       <use x=\"127.246094\" xlink:href=\"#DejaVuSans-30\"/>\r\n      </g>\r\n     </g>\r\n    </g>\r\n    <g id=\"ytick_5\">\r\n     <g id=\"line2d_11\">\r\n      <g>\r\n       <use style=\"stroke:#000000;stroke-width:0.8;\" x=\"46.965625\" xlink:href=\"#mfdfec8f4e8\" y=\"25.417811\"/>\r\n      </g>\r\n     </g>\r\n     <g id=\"text_12\">\r\n      <!-- 400 -->\r\n      <g transform=\"translate(20.878125 29.217029)scale(0.1 -0.1)\">\r\n       <use xlink:href=\"#DejaVuSans-34\"/>\r\n       <use x=\"63.623047\" xlink:href=\"#DejaVuSans-30\"/>\r\n       <use x=\"127.246094\" xlink:href=\"#DejaVuSans-30\"/>\r\n      </g>\r\n     </g>\r\n    </g>\r\n    <g id=\"text_13\">\r\n     <!-- 퍼플렉서티 -->\r\n     <g transform=\"translate(14.798438 130.923906)rotate(-90)scale(0.1 -0.1)\">\r\n      <defs>\r\n       <path d=\"M 319 -1131 \r\nL 319 4513 \r\nL 3519 4513 \r\nL 3519 -1131 \r\nL 319 -1131 \r\nz\r\nM 678 -775 \r\nL 3163 -775 \r\nL 3163 4153 \r\nL 678 4153 \r\nL 678 -775 \r\nz\r\n\" id=\"DejaVuSans-d37c\" transform=\"scale(0.015625)\"/>\r\n       <path d=\"M 319 -1131 \r\nL 319 4513 \r\nL 3519 4513 \r\nL 3519 -1131 \r\nL 319 -1131 \r\nz\r\nM 678 -775 \r\nL 3163 -775 \r\nL 3163 4153 \r\nL 678 4153 \r\nL 678 -775 \r\nz\r\n\" id=\"DejaVuSans-d50c\" transform=\"scale(0.015625)\"/>\r\n       <path d=\"M 319 -1131 \r\nL 319 4513 \r\nL 3519 4513 \r\nL 3519 -1131 \r\nL 319 -1131 \r\nz\r\nM 678 -775 \r\nL 3163 -775 \r\nL 3163 4153 \r\nL 678 4153 \r\nL 678 -775 \r\nz\r\n\" id=\"DejaVuSans-b809\" transform=\"scale(0.015625)\"/>\r\n       <path d=\"M 319 -1131 \r\nL 319 4513 \r\nL 3519 4513 \r\nL 3519 -1131 \r\nL 319 -1131 \r\nz\r\nM 678 -775 \r\nL 3163 -775 \r\nL 3163 4153 \r\nL 678 4153 \r\nL 678 -775 \r\nz\r\n\" id=\"DejaVuSans-c11c\" transform=\"scale(0.015625)\"/>\r\n       <path d=\"M 319 -1131 \r\nL 319 4513 \r\nL 3519 4513 \r\nL 3519 -1131 \r\nL 319 -1131 \r\nz\r\nM 678 -775 \r\nL 3163 -775 \r\nL 3163 4153 \r\nL 678 4153 \r\nL 678 -775 \r\nz\r\n\" id=\"DejaVuSans-d2f0\" transform=\"scale(0.015625)\"/>\r\n      </defs>\r\n      <use xlink:href=\"#DejaVuSans-d37c\"/>\r\n      <use x=\"60.009766\" xlink:href=\"#DejaVuSans-d50c\"/>\r\n      <use x=\"120.019531\" xlink:href=\"#DejaVuSans-b809\"/>\r\n      <use x=\"180.029297\" xlink:href=\"#DejaVuSans-c11c\"/>\r\n      <use x=\"240.039062\" xlink:href=\"#DejaVuSans-d2f0\"/>\r\n     </g>\r\n    </g>\r\n   </g>\r\n   <g id=\"line2d_12\">\r\n    <path clip-path=\"url(#pde8ce536ad)\" d=\"M 62.183807 17.083636 \r\nL 65.258187 21.157964 \r\nL 68.332567 64.610089 \r\nL 71.406947 104.657509 \r\nL 74.481327 112.914749 \r\nL 77.555708 114.961705 \r\nL 80.630088 119.815658 \r\nL 83.704468 120.251898 \r\nL 86.778848 122.639897 \r\nL 89.853228 125.257104 \r\nL 92.927608 124.834281 \r\nL 96.001989 126.311924 \r\nL 99.076369 124.87828 \r\nL 102.150749 127.372381 \r\nL 105.225129 128.101407 \r\nL 108.299509 126.499235 \r\nL 111.373889 127.246583 \r\nL 114.44827 129.14502 \r\nL 117.52265 130.624558 \r\nL 120.59703 131.053353 \r\nL 123.67141 132.148201 \r\nL 126.74579 131.847381 \r\nL 129.82017 132.125302 \r\nL 132.894551 132.100559 \r\nL 135.968931 136.118817 \r\nL 139.043311 135.187086 \r\nL 142.117691 136.427896 \r\nL 145.192071 135.090996 \r\nL 148.266451 139.170343 \r\nL 151.340832 140.905768 \r\nL 154.415212 142.288066 \r\nL 157.489592 144.378322 \r\nL 160.563972 144.619965 \r\nL 163.638352 145.830005 \r\nL 166.712732 148.573786 \r\nL 169.787113 149.032309 \r\nL 172.861493 150.401026 \r\nL 175.935873 154.830372 \r\nL 179.010253 156.283212 \r\nL 182.084633 159.032407 \r\nL 185.159013 161.788357 \r\nL 188.233394 162.31595 \r\nL 191.307774 164.875691 \r\nL 194.382154 166.40257 \r\nL 197.456534 170.715994 \r\nL 200.530914 171.875189 \r\nL 203.605294 173.732617 \r\nL 206.679675 175.576833 \r\nL 209.754055 177.503593 \r\nL 212.828435 180.233405 \r\nL 215.902815 182.028969 \r\nL 218.977195 184.007333 \r\nL 222.051575 185.028601 \r\nL 225.125956 186.845398 \r\nL 228.200336 189.115894 \r\nL 231.274716 190.092165 \r\nL 234.349096 190.928933 \r\nL 237.423476 193.460994 \r\nL 240.497856 194.037953 \r\nL 243.572237 196.144176 \r\nL 246.646617 198.004134 \r\nL 249.720997 198.433447 \r\nL 252.795377 198.799843 \r\nL 255.869757 200.243416 \r\nL 258.944137 201.568175 \r\nL 262.018518 202.564896 \r\nL 265.092898 203.105716 \r\nL 268.167278 203.799822 \r\nL 271.241658 204.640003 \r\nL 274.316038 205.403217 \r\nL 277.390418 205.938764 \r\nL 280.464799 206.889083 \r\nL 283.539179 207.33558 \r\nL 286.613559 207.699566 \r\nL 289.687939 208.2235 \r\nL 292.762319 208.622999 \r\nL 295.836699 209.446456 \r\nL 298.91108 209.741571 \r\nL 301.98546 210.220356 \r\nL 305.05984 210.538787 \r\nL 308.13422 210.955179 \r\nL 311.2086 211.12751 \r\nL 314.28298 211.267687 \r\nL 317.357361 211.818465 \r\nL 320.431741 212.289229 \r\nL 323.506121 212.314716 \r\nL 326.580501 212.487333 \r\nL 329.654881 212.899131 \r\nL 332.729261 212.862701 \r\nL 335.803642 213.302079 \r\nL 338.878022 213.612129 \r\nL 341.952402 213.60318 \r\nL 345.026782 213.563379 \r\nL 348.101162 213.800091 \r\nL 351.175542 214.135132 \r\nL 354.249923 214.187701 \r\nL 357.324303 214.341509 \r\nL 360.398683 214.488367 \r\nL 363.473063 214.756364 \r\nL 366.547443 214.686285 \r\n\" style=\"fill:none;stroke:#1f77b4;stroke-linecap:square;stroke-width:1.5;\"/>\r\n   </g>\r\n   <g id=\"patch_3\">\r\n    <path d=\"M 46.965625 224.64 \r\nL 46.965625 7.2 \r\n\" style=\"fill:none;stroke:#000000;stroke-linecap:square;stroke-linejoin:miter;stroke-width:0.8;\"/>\r\n   </g>\r\n   <g id=\"patch_4\">\r\n    <path d=\"M 381.765625 224.64 \r\nL 381.765625 7.2 \r\n\" style=\"fill:none;stroke:#000000;stroke-linecap:square;stroke-linejoin:miter;stroke-width:0.8;\"/>\r\n   </g>\r\n   <g id=\"patch_5\">\r\n    <path d=\"M 46.965625 224.64 \r\nL 381.765625 224.64 \r\n\" style=\"fill:none;stroke:#000000;stroke-linecap:square;stroke-linejoin:miter;stroke-width:0.8;\"/>\r\n   </g>\r\n   <g id=\"patch_6\">\r\n    <path d=\"M 46.965625 7.2 \r\nL 381.765625 7.2 \r\n\" style=\"fill:none;stroke:#000000;stroke-linecap:square;stroke-linejoin:miter;stroke-width:0.8;\"/>\r\n   </g>\r\n  </g>\r\n </g>\r\n <defs>\r\n  <clipPath id=\"pde8ce536ad\">\r\n   <rect height=\"217.44\" width=\"334.8\" x=\"46.965625\" y=\"7.2\"/>\r\n  </clipPath>\r\n </defs>\r\n</svg>\r\n",
      "image/png": "[encoded data removed]"
     },
     "metadata": {
      "needs_background": "light"
     }
    }
   ],
   "source": [
    "# chap05/train.py\n",
    "%matplotlib inline\n",
    "import sys\n",
    "sys.path.append('..')\n",
    "from common.optimizer import SGD\n",
    "from common.trainer import RnnlmTrainer\n",
    "from dataset import ptb\n",
    "from simple_rnnlm import SimpleRnnlm\n",
    "\n",
    "\n",
    "# 하이퍼파라미터 설정\n",
    "batch_size = 10\n",
    "wordvec_size = 100\n",
    "hidden_size = 100  # RNN의 은닉 상태 벡터의 원소 수\n",
    "time_size = 5  # RNN을 펼치는 크기\n",
    "lr = 0.1\n",
    "max_epoch = 100\n",
    "\n",
    "# 학습 데이터 읽기\n",
    "corpus, word_to_id, id_to_word = ptb.load_data('train')\n",
    "corpus_size = 1000  # 테스트 데이터셋을 작게 설정\n",
    "corpus = corpus[:corpus_size]\n",
    "vocab_size = int(max(corpus) + 1)\n",
    "xs = corpus[:-1]  # 입력\n",
    "ts = corpus[1:]  # 출력（정답 레이블）\n",
    "\n",
    "# 모델 생성\n",
    "model = SimpleRnnlm(vocab_size, wordvec_size, hidden_size)\n",
    "optimizer = SGD(lr)\n",
    "trainer = RnnlmTrainer(model, optimizer)\n",
    "\n",
    "trainer.fit(xs, ts, max_epoch, batch_size, time_size)\n",
    "trainer.plot()"
   ]
  },
  {
   "cell_type": "markdown",
   "metadata": {},
   "source": [
    " "
   ]
  },
  {
   "cell_type": "markdown",
   "metadata": {},
   "source": [
    "## 5.6 정리\n",
    "\n",
    "- RNN은 순환하는 경로가 있고, 이를 통해 내부에 'hidden state'를 기억할 수 있다.\n",
    "\n",
    "- RNN의 순환 경로를 펼침으로써 다수의 RNN 계층이 연결된 신경망으로 해석할 수 있으며, BPTT로 학습한다.\n",
    "\n",
    "- 긴 시계열 데이터를 학습할 때는 데이터를 적당한 길이의 블록을 만들어, 블록 단위로 BPTT 로 학습한다(= Truncated BPTT).\n",
    "\n",
    "- Truncated BPTT에서는 역전파의 연결만 끊는다.\n",
    "\n",
    "- Truncated BPTT에서는 순전파의 연결을 유지하기 위해 데이터를 '순차적'으로 입력해야 한다.\n",
    "\n",
    "- 언어 모델은 단어 시퀀스를 확률로 해석한다.\n",
    "\n",
    "- RNN 계층을 이용한 조건부 언어 모델은 (이론적으로는) 그때까지 등장한 모든 단어의 정보를 기억할 수 있다."
   ]
  },
  {
   "cell_type": "code",
   "execution_count": null,
   "metadata": {},
   "outputs": [],
   "source": []
  }
 ],
 "metadata": {
  "kernelspec": {
   "name": "python3",
   "display_name": "Python 3.8.10 64-bit ('isd': conda)"
  },
  "language_info": {
   "codemirror_mode": {
    "name": "ipython",
    "version": 3
   },
   "file_extension": ".py",
   "mimetype": "text/x-python",
   "name": "python",
   "nbconvert_exporter": "python",
   "pygments_lexer": "ipython3",
   "version": "3.8.10"
  },
  "interpreter": {
   "hash": "877b33159a4c018d25bbf3137b5d5469e1c4e142979e80179d81f52924db0571"
  }
 },
 "nbformat": 4,
 "nbformat_minor": 2
}